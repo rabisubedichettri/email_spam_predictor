{
 "cells": [
  {
   "cell_type": "markdown",
   "id": "d5a6d075",
   "metadata": {},
   "source": [
    "# 1. Loading dataset"
   ]
  },
  {
   "cell_type": "code",
   "execution_count": 610,
   "id": "7fc6fd4e",
   "metadata": {},
   "outputs": [],
   "source": [
    "import numpy as np\n",
    "import pandas as pd\n",
    "dataset = pd.read_csv('spam.csv')"
   ]
  },
  {
   "cell_type": "markdown",
   "id": "03b1510d",
   "metadata": {},
   "source": [
    "# 2. Reading dataset's information"
   ]
  },
  {
   "cell_type": "code",
   "execution_count": 611,
   "id": "d7bdde00",
   "metadata": {},
   "outputs": [
    {
     "data": {
      "text/html": [
       "<div>\n",
       "<style scoped>\n",
       "    .dataframe tbody tr th:only-of-type {\n",
       "        vertical-align: middle;\n",
       "    }\n",
       "\n",
       "    .dataframe tbody tr th {\n",
       "        vertical-align: top;\n",
       "    }\n",
       "\n",
       "    .dataframe thead th {\n",
       "        text-align: right;\n",
       "    }\n",
       "</style>\n",
       "<table border=\"1\" class=\"dataframe\">\n",
       "  <thead>\n",
       "    <tr style=\"text-align: right;\">\n",
       "      <th></th>\n",
       "      <th>v1</th>\n",
       "      <th>v2</th>\n",
       "      <th>Unnamed: 2</th>\n",
       "      <th>Unnamed: 3</th>\n",
       "      <th>Unnamed: 4</th>\n",
       "    </tr>\n",
       "  </thead>\n",
       "  <tbody>\n",
       "    <tr>\n",
       "      <th>2482</th>\n",
       "      <td>ham</td>\n",
       "      <td>Pansy! You've been living in a jungle for two ...</td>\n",
       "      <td>NaN</td>\n",
       "      <td>NaN</td>\n",
       "      <td>NaN</td>\n",
       "    </tr>\n",
       "    <tr>\n",
       "      <th>2330</th>\n",
       "      <td>ham</td>\n",
       "      <td>Long beach lor. Expected... U having dinner now?</td>\n",
       "      <td>NaN</td>\n",
       "      <td>NaN</td>\n",
       "      <td>NaN</td>\n",
       "    </tr>\n",
       "    <tr>\n",
       "      <th>678</th>\n",
       "      <td>ham</td>\n",
       "      <td>Cause I'm not freaky lol</td>\n",
       "      <td>NaN</td>\n",
       "      <td>NaN</td>\n",
       "      <td>NaN</td>\n",
       "    </tr>\n",
       "    <tr>\n",
       "      <th>4097</th>\n",
       "      <td>ham</td>\n",
       "      <td>I think just yourself ��_Thanks and see you tomo</td>\n",
       "      <td>NaN</td>\n",
       "      <td>NaN</td>\n",
       "      <td>NaN</td>\n",
       "    </tr>\n",
       "    <tr>\n",
       "      <th>4424</th>\n",
       "      <td>ham</td>\n",
       "      <td>Just now saw your message.it k da:)</td>\n",
       "      <td>NaN</td>\n",
       "      <td>NaN</td>\n",
       "      <td>NaN</td>\n",
       "    </tr>\n",
       "  </tbody>\n",
       "</table>\n",
       "</div>"
      ],
      "text/plain": [
       "       v1                                                 v2 Unnamed: 2  \\\n",
       "2482  ham  Pansy! You've been living in a jungle for two ...        NaN   \n",
       "2330  ham   Long beach lor. Expected... U having dinner now?        NaN   \n",
       "678   ham                           Cause I'm not freaky lol        NaN   \n",
       "4097  ham   I think just yourself ��_Thanks and see you tomo        NaN   \n",
       "4424  ham                Just now saw your message.it k da:)        NaN   \n",
       "\n",
       "     Unnamed: 3 Unnamed: 4  \n",
       "2482        NaN        NaN  \n",
       "2330        NaN        NaN  \n",
       "678         NaN        NaN  \n",
       "4097        NaN        NaN  \n",
       "4424        NaN        NaN  "
      ]
     },
     "execution_count": 611,
     "metadata": {},
     "output_type": "execute_result"
    }
   ],
   "source": [
    "# reading 5 random samples from the dataset\n",
    "dataset.sample(5)"
   ]
  },
  {
   "cell_type": "code",
   "execution_count": 612,
   "id": "f6b1c2f3",
   "metadata": {},
   "outputs": [
    {
     "name": "stdout",
     "output_type": "stream",
     "text": [
      "<class 'pandas.core.frame.DataFrame'>\n",
      "RangeIndex: 5572 entries, 0 to 5571\n",
      "Data columns (total 5 columns):\n",
      " #   Column      Non-Null Count  Dtype \n",
      "---  ------      --------------  ----- \n",
      " 0   v1          5572 non-null   object\n",
      " 1   v2          5572 non-null   object\n",
      " 2   Unnamed: 2  50 non-null     object\n",
      " 3   Unnamed: 3  12 non-null     object\n",
      " 4   Unnamed: 4  6 non-null      object\n",
      "dtypes: object(5)\n",
      "memory usage: 217.8+ KB\n"
     ]
    }
   ],
   "source": [
    "# general view of dataset\n",
    "dataset.info()"
   ]
  },
  {
   "cell_type": "code",
   "execution_count": 613,
   "id": "5d0c8042",
   "metadata": {},
   "outputs": [
    {
     "data": {
      "text/plain": [
       "array([['ham',\n",
       "        'Ever green quote ever told by Jerry in cartoon \\\\A Person Who Irritates u Always Is the one Who Loves u Vry Much But Fails to Express It...!..!! :-) :-) gud nyt\"',\n",
       "        nan, nan, nan]], dtype=object)"
      ]
     },
     "execution_count": 613,
     "metadata": {},
     "output_type": "execute_result"
    }
   ],
   "source": [
    "# detail view of a sample from the dataset\n",
    "dataset.sample(1).values\n"
   ]
  },
  {
   "cell_type": "markdown",
   "id": "d6e59a53",
   "metadata": {},
   "source": [
    "# 3. Data Cleaning"
   ]
  },
  {
   "cell_type": "code",
   "execution_count": 614,
   "id": "c4325d8a",
   "metadata": {},
   "outputs": [],
   "source": [
    "# removing unrequired cloumns from the data\n",
    "dataset.drop(columns=['Unnamed: 2',\"Unnamed: 3\",\"Unnamed: 4\"],inplace=True)"
   ]
  },
  {
   "cell_type": "code",
   "execution_count": 615,
   "id": "3e648dc4",
   "metadata": {},
   "outputs": [
    {
     "data": {
      "text/html": [
       "<div>\n",
       "<style scoped>\n",
       "    .dataframe tbody tr th:only-of-type {\n",
       "        vertical-align: middle;\n",
       "    }\n",
       "\n",
       "    .dataframe tbody tr th {\n",
       "        vertical-align: top;\n",
       "    }\n",
       "\n",
       "    .dataframe thead th {\n",
       "        text-align: right;\n",
       "    }\n",
       "</style>\n",
       "<table border=\"1\" class=\"dataframe\">\n",
       "  <thead>\n",
       "    <tr style=\"text-align: right;\">\n",
       "      <th></th>\n",
       "      <th>v1</th>\n",
       "      <th>v2</th>\n",
       "    </tr>\n",
       "  </thead>\n",
       "  <tbody>\n",
       "    <tr>\n",
       "      <th>0</th>\n",
       "      <td>ham</td>\n",
       "      <td>Go until jurong point, crazy.. Available only ...</td>\n",
       "    </tr>\n",
       "    <tr>\n",
       "      <th>1</th>\n",
       "      <td>ham</td>\n",
       "      <td>Ok lar... Joking wif u oni...</td>\n",
       "    </tr>\n",
       "    <tr>\n",
       "      <th>2</th>\n",
       "      <td>spam</td>\n",
       "      <td>Free entry in 2 a wkly comp to win FA Cup fina...</td>\n",
       "    </tr>\n",
       "    <tr>\n",
       "      <th>3</th>\n",
       "      <td>ham</td>\n",
       "      <td>U dun say so early hor... U c already then say...</td>\n",
       "    </tr>\n",
       "    <tr>\n",
       "      <th>4</th>\n",
       "      <td>ham</td>\n",
       "      <td>Nah I don't think he goes to usf, he lives aro...</td>\n",
       "    </tr>\n",
       "  </tbody>\n",
       "</table>\n",
       "</div>"
      ],
      "text/plain": [
       "     v1                                                 v2\n",
       "0   ham  Go until jurong point, crazy.. Available only ...\n",
       "1   ham                      Ok lar... Joking wif u oni...\n",
       "2  spam  Free entry in 2 a wkly comp to win FA Cup fina...\n",
       "3   ham  U dun say so early hor... U c already then say...\n",
       "4   ham  Nah I don't think he goes to usf, he lives aro..."
      ]
     },
     "execution_count": 615,
     "metadata": {},
     "output_type": "execute_result"
    }
   ],
   "source": [
    "# after dropping the unrequired columns\n",
    "dataset.head(5)"
   ]
  },
  {
   "cell_type": "code",
   "execution_count": 616,
   "id": "b79247df",
   "metadata": {},
   "outputs": [],
   "source": [
    "# renaming the columns in the dataset\n",
    "dataset.rename(columns={\"v1\":\"target\",\"v2\":\"message\"},inplace=True)"
   ]
  },
  {
   "cell_type": "code",
   "execution_count": 617,
   "id": "949d6bff",
   "metadata": {},
   "outputs": [
    {
     "data": {
      "text/html": [
       "<div>\n",
       "<style scoped>\n",
       "    .dataframe tbody tr th:only-of-type {\n",
       "        vertical-align: middle;\n",
       "    }\n",
       "\n",
       "    .dataframe tbody tr th {\n",
       "        vertical-align: top;\n",
       "    }\n",
       "\n",
       "    .dataframe thead th {\n",
       "        text-align: right;\n",
       "    }\n",
       "</style>\n",
       "<table border=\"1\" class=\"dataframe\">\n",
       "  <thead>\n",
       "    <tr style=\"text-align: right;\">\n",
       "      <th></th>\n",
       "      <th>target</th>\n",
       "      <th>message</th>\n",
       "    </tr>\n",
       "  </thead>\n",
       "  <tbody>\n",
       "    <tr>\n",
       "      <th>0</th>\n",
       "      <td>ham</td>\n",
       "      <td>Go until jurong point, crazy.. Available only ...</td>\n",
       "    </tr>\n",
       "    <tr>\n",
       "      <th>1</th>\n",
       "      <td>ham</td>\n",
       "      <td>Ok lar... Joking wif u oni...</td>\n",
       "    </tr>\n",
       "    <tr>\n",
       "      <th>2</th>\n",
       "      <td>spam</td>\n",
       "      <td>Free entry in 2 a wkly comp to win FA Cup fina...</td>\n",
       "    </tr>\n",
       "    <tr>\n",
       "      <th>3</th>\n",
       "      <td>ham</td>\n",
       "      <td>U dun say so early hor... U c already then say...</td>\n",
       "    </tr>\n",
       "    <tr>\n",
       "      <th>4</th>\n",
       "      <td>ham</td>\n",
       "      <td>Nah I don't think he goes to usf, he lives aro...</td>\n",
       "    </tr>\n",
       "    <tr>\n",
       "      <th>...</th>\n",
       "      <td>...</td>\n",
       "      <td>...</td>\n",
       "    </tr>\n",
       "    <tr>\n",
       "      <th>5567</th>\n",
       "      <td>spam</td>\n",
       "      <td>This is the 2nd time we have tried 2 contact u...</td>\n",
       "    </tr>\n",
       "    <tr>\n",
       "      <th>5568</th>\n",
       "      <td>ham</td>\n",
       "      <td>Will �_ b going to esplanade fr home?</td>\n",
       "    </tr>\n",
       "    <tr>\n",
       "      <th>5569</th>\n",
       "      <td>ham</td>\n",
       "      <td>Pity, * was in mood for that. So...any other s...</td>\n",
       "    </tr>\n",
       "    <tr>\n",
       "      <th>5570</th>\n",
       "      <td>ham</td>\n",
       "      <td>The guy did some bitching but I acted like i'd...</td>\n",
       "    </tr>\n",
       "    <tr>\n",
       "      <th>5571</th>\n",
       "      <td>ham</td>\n",
       "      <td>Rofl. Its true to its name</td>\n",
       "    </tr>\n",
       "  </tbody>\n",
       "</table>\n",
       "<p>5572 rows × 2 columns</p>\n",
       "</div>"
      ],
      "text/plain": [
       "     target                                            message\n",
       "0       ham  Go until jurong point, crazy.. Available only ...\n",
       "1       ham                      Ok lar... Joking wif u oni...\n",
       "2      spam  Free entry in 2 a wkly comp to win FA Cup fina...\n",
       "3       ham  U dun say so early hor... U c already then say...\n",
       "4       ham  Nah I don't think he goes to usf, he lives aro...\n",
       "...     ...                                                ...\n",
       "5567   spam  This is the 2nd time we have tried 2 contact u...\n",
       "5568    ham              Will �_ b going to esplanade fr home?\n",
       "5569    ham  Pity, * was in mood for that. So...any other s...\n",
       "5570    ham  The guy did some bitching but I acted like i'd...\n",
       "5571    ham                         Rofl. Its true to its name\n",
       "\n",
       "[5572 rows x 2 columns]"
      ]
     },
     "execution_count": 617,
     "metadata": {},
     "output_type": "execute_result"
    }
   ],
   "source": [
    "# after renaming\n",
    "dataset"
   ]
  },
  {
   "cell_type": "code",
   "execution_count": 618,
   "id": "73a48367",
   "metadata": {},
   "outputs": [],
   "source": [
    "# encoding the target column with 0 for ham and 1 for spam\n",
    "from sklearn.preprocessing import LabelEncoder\n",
    "encoder=LabelEncoder()\n",
    "dataset[\"target\"]=encoder.fit_transform(dataset['target'])"
   ]
  },
  {
   "cell_type": "code",
   "execution_count": 619,
   "id": "0a8a48a5",
   "metadata": {},
   "outputs": [
    {
     "data": {
      "text/html": [
       "<div>\n",
       "<style scoped>\n",
       "    .dataframe tbody tr th:only-of-type {\n",
       "        vertical-align: middle;\n",
       "    }\n",
       "\n",
       "    .dataframe tbody tr th {\n",
       "        vertical-align: top;\n",
       "    }\n",
       "\n",
       "    .dataframe thead th {\n",
       "        text-align: right;\n",
       "    }\n",
       "</style>\n",
       "<table border=\"1\" class=\"dataframe\">\n",
       "  <thead>\n",
       "    <tr style=\"text-align: right;\">\n",
       "      <th></th>\n",
       "      <th>target</th>\n",
       "      <th>message</th>\n",
       "    </tr>\n",
       "  </thead>\n",
       "  <tbody>\n",
       "    <tr>\n",
       "      <th>4865</th>\n",
       "      <td>0</td>\n",
       "      <td>Oh! Shit, I thought that was your trip! Looooo...</td>\n",
       "    </tr>\n",
       "    <tr>\n",
       "      <th>1388</th>\n",
       "      <td>0</td>\n",
       "      <td>Oh k.i think most of wi and nz players unsold.</td>\n",
       "    </tr>\n",
       "    <tr>\n",
       "      <th>2854</th>\n",
       "      <td>0</td>\n",
       "      <td>Your gonna be the death if me. I'm gonna leave...</td>\n",
       "    </tr>\n",
       "    <tr>\n",
       "      <th>5057</th>\n",
       "      <td>0</td>\n",
       "      <td>Geeeee ... Your internet is really bad today, ...</td>\n",
       "    </tr>\n",
       "    <tr>\n",
       "      <th>1810</th>\n",
       "      <td>0</td>\n",
       "      <td>Now, whats your house # again ? And do you hav...</td>\n",
       "    </tr>\n",
       "  </tbody>\n",
       "</table>\n",
       "</div>"
      ],
      "text/plain": [
       "      target                                            message\n",
       "4865       0  Oh! Shit, I thought that was your trip! Looooo...\n",
       "1388       0     Oh k.i think most of wi and nz players unsold.\n",
       "2854       0  Your gonna be the death if me. I'm gonna leave...\n",
       "5057       0  Geeeee ... Your internet is really bad today, ...\n",
       "1810       0  Now, whats your house # again ? And do you hav..."
      ]
     },
     "execution_count": 619,
     "metadata": {},
     "output_type": "execute_result"
    }
   ],
   "source": [
    "# after encoding\n",
    "dataset.sample(5)"
   ]
  },
  {
   "cell_type": "code",
   "execution_count": 620,
   "id": "23df16ac",
   "metadata": {},
   "outputs": [
    {
     "data": {
      "text/plain": [
       "0"
      ]
     },
     "execution_count": 620,
     "metadata": {},
     "output_type": "execute_result"
    }
   ],
   "source": [
    "# checking missing value for target\n",
    "dataset[\"target\"].isnull().sum()"
   ]
  },
  {
   "cell_type": "code",
   "execution_count": 621,
   "id": "9d9c1327",
   "metadata": {},
   "outputs": [
    {
     "data": {
      "text/plain": [
       "0"
      ]
     },
     "execution_count": 621,
     "metadata": {},
     "output_type": "execute_result"
    }
   ],
   "source": [
    "# checking missing value for message\n",
    "dataset[\"message\"].isnull().sum()"
   ]
  },
  {
   "cell_type": "code",
   "execution_count": 622,
   "id": "d0182a55",
   "metadata": {},
   "outputs": [
    {
     "data": {
      "text/plain": [
       "403"
      ]
     },
     "execution_count": 622,
     "metadata": {},
     "output_type": "execute_result"
    }
   ],
   "source": [
    "# checking duplicated values\n",
    "dataset.duplicated().sum()"
   ]
  },
  {
   "cell_type": "code",
   "execution_count": 623,
   "id": "83bff91c",
   "metadata": {},
   "outputs": [],
   "source": [
    "# remove the duplicated values and keep first one\n",
    "dataset.drop_duplicates(keep=\"first\",inplace=True)"
   ]
  },
  {
   "cell_type": "code",
   "execution_count": 624,
   "id": "00336ba1",
   "metadata": {},
   "outputs": [
    {
     "data": {
      "text/plain": [
       "0"
      ]
     },
     "execution_count": 624,
     "metadata": {},
     "output_type": "execute_result"
    }
   ],
   "source": [
    "# checking the presence of  the dupicated values\n",
    "dataset.duplicated().sum()"
   ]
  },
  {
   "cell_type": "code",
   "execution_count": 625,
   "id": "ef243aee",
   "metadata": {},
   "outputs": [
    {
     "name": "stdout",
     "output_type": "stream",
     "text": [
      "<class 'pandas.core.frame.DataFrame'>\n",
      "Int64Index: 5169 entries, 0 to 5571\n",
      "Data columns (total 2 columns):\n",
      " #   Column   Non-Null Count  Dtype \n",
      "---  ------   --------------  ----- \n",
      " 0   target   5169 non-null   int32 \n",
      " 1   message  5169 non-null   object\n",
      "dtypes: int32(1), object(1)\n",
      "memory usage: 101.0+ KB\n"
     ]
    }
   ],
   "source": [
    "# reading  dataset's information after removing duplicated data\n",
    "dataset.info()\n"
   ]
  },
  {
   "cell_type": "markdown",
   "id": "036029af",
   "metadata": {},
   "source": [
    "# 4. Exploratory data analysis"
   ]
  },
  {
   "cell_type": "code",
   "execution_count": 626,
   "id": "73b83ad9",
   "metadata": {},
   "outputs": [
    {
     "data": {
      "text/plain": [
       "0    4516\n",
       "1     653\n",
       "Name: target, dtype: int64"
      ]
     },
     "execution_count": 626,
     "metadata": {},
     "output_type": "execute_result"
    }
   ],
   "source": [
    "# checking the presence of ham and spam in the dataset\n",
    "dataset[\"target\"].value_counts()"
   ]
  },
  {
   "cell_type": "code",
   "execution_count": 627,
   "id": "5b17be90",
   "metadata": {},
   "outputs": [
    {
     "data": {
      "text/plain": [
       "([<matplotlib.patches.Wedge at 0x1ec8169a220>,\n",
       "  <matplotlib.patches.Wedge at 0x1ec8169a910>],\n",
       " [Text(-1.0144997251399075, 0.4251944351600247, 'ham'),\n",
       "  Text(1.014499764949479, -0.4251943401757036, 'spam')],\n",
       " [Text(-0.5533634864399495, 0.23192423736001344, '87.37'),\n",
       "  Text(0.5533635081542612, -0.23192418555038377, '12.63')])"
      ]
     },
     "execution_count": 627,
     "metadata": {},
     "output_type": "execute_result"
    },
    {
     "data": {
      "image/png": "[encoded data removed]",
      "text/plain": [
       "<Figure size 432x288 with 1 Axes>"
      ]
     },
     "metadata": {},
     "output_type": "display_data"
    }
   ],
   "source": [
    "# visualizaing in the presence of ham and spam in the dataset pichart\n",
    "import matplotlib.pyplot as plt\n",
    "%matplotlib inline\n",
    "\n",
    "plt.pie(dataset[\"target\"].value_counts(),labels=['ham',\"spam\"],autopct=\"%0.2f\")"
   ]
  },
  {
   "cell_type": "raw",
   "id": "91305da6",
   "metadata": {},
   "source": [
    "Data is imblanced"
   ]
  },
  {
   "cell_type": "code",
   "execution_count": 628,
   "id": "89103d17",
   "metadata": {},
   "outputs": [],
   "source": [
    "# counting number of characters\n",
    "dataset['num_characters'] = dataset['message'].apply(len)"
   ]
  },
  {
   "cell_type": "code",
   "execution_count": 629,
   "id": "a9ba5d56",
   "metadata": {},
   "outputs": [
    {
     "data": {
      "text/html": [
       "<div>\n",
       "<style scoped>\n",
       "    .dataframe tbody tr th:only-of-type {\n",
       "        vertical-align: middle;\n",
       "    }\n",
       "\n",
       "    .dataframe tbody tr th {\n",
       "        vertical-align: top;\n",
       "    }\n",
       "\n",
       "    .dataframe thead th {\n",
       "        text-align: right;\n",
       "    }\n",
       "</style>\n",
       "<table border=\"1\" class=\"dataframe\">\n",
       "  <thead>\n",
       "    <tr style=\"text-align: right;\">\n",
       "      <th></th>\n",
       "      <th>target</th>\n",
       "      <th>message</th>\n",
       "      <th>num_characters</th>\n",
       "    </tr>\n",
       "  </thead>\n",
       "  <tbody>\n",
       "    <tr>\n",
       "      <th>0</th>\n",
       "      <td>0</td>\n",
       "      <td>Go until jurong point, crazy.. Available only ...</td>\n",
       "      <td>111</td>\n",
       "    </tr>\n",
       "    <tr>\n",
       "      <th>1</th>\n",
       "      <td>0</td>\n",
       "      <td>Ok lar... Joking wif u oni...</td>\n",
       "      <td>29</td>\n",
       "    </tr>\n",
       "    <tr>\n",
       "      <th>2</th>\n",
       "      <td>1</td>\n",
       "      <td>Free entry in 2 a wkly comp to win FA Cup fina...</td>\n",
       "      <td>155</td>\n",
       "    </tr>\n",
       "    <tr>\n",
       "      <th>3</th>\n",
       "      <td>0</td>\n",
       "      <td>U dun say so early hor... U c already then say...</td>\n",
       "      <td>49</td>\n",
       "    </tr>\n",
       "    <tr>\n",
       "      <th>4</th>\n",
       "      <td>0</td>\n",
       "      <td>Nah I don't think he goes to usf, he lives aro...</td>\n",
       "      <td>61</td>\n",
       "    </tr>\n",
       "  </tbody>\n",
       "</table>\n",
       "</div>"
      ],
      "text/plain": [
       "   target                                            message  num_characters\n",
       "0       0  Go until jurong point, crazy.. Available only ...             111\n",
       "1       0                      Ok lar... Joking wif u oni...              29\n",
       "2       1  Free entry in 2 a wkly comp to win FA Cup fina...             155\n",
       "3       0  U dun say so early hor... U c already then say...              49\n",
       "4       0  Nah I don't think he goes to usf, he lives aro...              61"
      ]
     },
     "execution_count": 629,
     "metadata": {},
     "output_type": "execute_result"
    }
   ],
   "source": [
    "# visualizing number of characters\n",
    "dataset.head()"
   ]
  },
  {
   "cell_type": "code",
   "execution_count": 630,
   "id": "9918bdba",
   "metadata": {},
   "outputs": [
    {
     "name": "stderr",
     "output_type": "stream",
     "text": [
      "[nltk_data] Downloading package punkt to\n",
      "[nltk_data]     C:\\Users\\User\\AppData\\Roaming\\nltk_data...\n",
      "[nltk_data]   Package punkt is already up-to-date!\n"
     ]
    }
   ],
   "source": [
    "# num of words in message\n",
    "import nltk\n",
    "nltk.download('punkt')\n",
    "\n",
    "dataset['num_words'] = dataset['message'].apply(lambda x:len(nltk.word_tokenize(x)))"
   ]
  },
  {
   "cell_type": "code",
   "execution_count": 631,
   "id": "939f5d07",
   "metadata": {},
   "outputs": [
    {
     "data": {
      "text/html": [
       "<div>\n",
       "<style scoped>\n",
       "    .dataframe tbody tr th:only-of-type {\n",
       "        vertical-align: middle;\n",
       "    }\n",
       "\n",
       "    .dataframe tbody tr th {\n",
       "        vertical-align: top;\n",
       "    }\n",
       "\n",
       "    .dataframe thead th {\n",
       "        text-align: right;\n",
       "    }\n",
       "</style>\n",
       "<table border=\"1\" class=\"dataframe\">\n",
       "  <thead>\n",
       "    <tr style=\"text-align: right;\">\n",
       "      <th></th>\n",
       "      <th>target</th>\n",
       "      <th>message</th>\n",
       "      <th>num_characters</th>\n",
       "      <th>num_words</th>\n",
       "    </tr>\n",
       "  </thead>\n",
       "  <tbody>\n",
       "    <tr>\n",
       "      <th>0</th>\n",
       "      <td>0</td>\n",
       "      <td>Go until jurong point, crazy.. Available only ...</td>\n",
       "      <td>111</td>\n",
       "      <td>24</td>\n",
       "    </tr>\n",
       "    <tr>\n",
       "      <th>1</th>\n",
       "      <td>0</td>\n",
       "      <td>Ok lar... Joking wif u oni...</td>\n",
       "      <td>29</td>\n",
       "      <td>8</td>\n",
       "    </tr>\n",
       "    <tr>\n",
       "      <th>2</th>\n",
       "      <td>1</td>\n",
       "      <td>Free entry in 2 a wkly comp to win FA Cup fina...</td>\n",
       "      <td>155</td>\n",
       "      <td>37</td>\n",
       "    </tr>\n",
       "    <tr>\n",
       "      <th>3</th>\n",
       "      <td>0</td>\n",
       "      <td>U dun say so early hor... U c already then say...</td>\n",
       "      <td>49</td>\n",
       "      <td>13</td>\n",
       "    </tr>\n",
       "    <tr>\n",
       "      <th>4</th>\n",
       "      <td>0</td>\n",
       "      <td>Nah I don't think he goes to usf, he lives aro...</td>\n",
       "      <td>61</td>\n",
       "      <td>15</td>\n",
       "    </tr>\n",
       "  </tbody>\n",
       "</table>\n",
       "</div>"
      ],
      "text/plain": [
       "   target                                            message  num_characters  \\\n",
       "0       0  Go until jurong point, crazy.. Available only ...             111   \n",
       "1       0                      Ok lar... Joking wif u oni...              29   \n",
       "2       1  Free entry in 2 a wkly comp to win FA Cup fina...             155   \n",
       "3       0  U dun say so early hor... U c already then say...              49   \n",
       "4       0  Nah I don't think he goes to usf, he lives aro...              61   \n",
       "\n",
       "   num_words  \n",
       "0         24  \n",
       "1          8  \n",
       "2         37  \n",
       "3         13  \n",
       "4         15  "
      ]
     },
     "execution_count": 631,
     "metadata": {},
     "output_type": "execute_result"
    }
   ],
   "source": [
    "dataset.head()"
   ]
  },
  {
   "cell_type": "code",
   "execution_count": 632,
   "id": "39bd00e6",
   "metadata": {},
   "outputs": [],
   "source": [
    "# number of sentencs in message\n",
    "dataset['num_sentences'] = dataset['message'].apply(lambda x:len(nltk.sent_tokenize(x)))"
   ]
  },
  {
   "cell_type": "code",
   "execution_count": 633,
   "id": "a40c5e16",
   "metadata": {},
   "outputs": [
    {
     "data": {
      "text/html": [
       "<div>\n",
       "<style scoped>\n",
       "    .dataframe tbody tr th:only-of-type {\n",
       "        vertical-align: middle;\n",
       "    }\n",
       "\n",
       "    .dataframe tbody tr th {\n",
       "        vertical-align: top;\n",
       "    }\n",
       "\n",
       "    .dataframe thead th {\n",
       "        text-align: right;\n",
       "    }\n",
       "</style>\n",
       "<table border=\"1\" class=\"dataframe\">\n",
       "  <thead>\n",
       "    <tr style=\"text-align: right;\">\n",
       "      <th></th>\n",
       "      <th>target</th>\n",
       "      <th>message</th>\n",
       "      <th>num_characters</th>\n",
       "      <th>num_words</th>\n",
       "      <th>num_sentences</th>\n",
       "    </tr>\n",
       "  </thead>\n",
       "  <tbody>\n",
       "    <tr>\n",
       "      <th>0</th>\n",
       "      <td>0</td>\n",
       "      <td>Go until jurong point, crazy.. Available only ...</td>\n",
       "      <td>111</td>\n",
       "      <td>24</td>\n",
       "      <td>2</td>\n",
       "    </tr>\n",
       "    <tr>\n",
       "      <th>1</th>\n",
       "      <td>0</td>\n",
       "      <td>Ok lar... Joking wif u oni...</td>\n",
       "      <td>29</td>\n",
       "      <td>8</td>\n",
       "      <td>2</td>\n",
       "    </tr>\n",
       "    <tr>\n",
       "      <th>2</th>\n",
       "      <td>1</td>\n",
       "      <td>Free entry in 2 a wkly comp to win FA Cup fina...</td>\n",
       "      <td>155</td>\n",
       "      <td>37</td>\n",
       "      <td>2</td>\n",
       "    </tr>\n",
       "    <tr>\n",
       "      <th>3</th>\n",
       "      <td>0</td>\n",
       "      <td>U dun say so early hor... U c already then say...</td>\n",
       "      <td>49</td>\n",
       "      <td>13</td>\n",
       "      <td>1</td>\n",
       "    </tr>\n",
       "    <tr>\n",
       "      <th>4</th>\n",
       "      <td>0</td>\n",
       "      <td>Nah I don't think he goes to usf, he lives aro...</td>\n",
       "      <td>61</td>\n",
       "      <td>15</td>\n",
       "      <td>1</td>\n",
       "    </tr>\n",
       "    <tr>\n",
       "      <th>...</th>\n",
       "      <td>...</td>\n",
       "      <td>...</td>\n",
       "      <td>...</td>\n",
       "      <td>...</td>\n",
       "      <td>...</td>\n",
       "    </tr>\n",
       "    <tr>\n",
       "      <th>5567</th>\n",
       "      <td>1</td>\n",
       "      <td>This is the 2nd time we have tried 2 contact u...</td>\n",
       "      <td>160</td>\n",
       "      <td>35</td>\n",
       "      <td>4</td>\n",
       "    </tr>\n",
       "    <tr>\n",
       "      <th>5568</th>\n",
       "      <td>0</td>\n",
       "      <td>Will �_ b going to esplanade fr home?</td>\n",
       "      <td>37</td>\n",
       "      <td>9</td>\n",
       "      <td>1</td>\n",
       "    </tr>\n",
       "    <tr>\n",
       "      <th>5569</th>\n",
       "      <td>0</td>\n",
       "      <td>Pity, * was in mood for that. So...any other s...</td>\n",
       "      <td>57</td>\n",
       "      <td>15</td>\n",
       "      <td>2</td>\n",
       "    </tr>\n",
       "    <tr>\n",
       "      <th>5570</th>\n",
       "      <td>0</td>\n",
       "      <td>The guy did some bitching but I acted like i'd...</td>\n",
       "      <td>125</td>\n",
       "      <td>27</td>\n",
       "      <td>1</td>\n",
       "    </tr>\n",
       "    <tr>\n",
       "      <th>5571</th>\n",
       "      <td>0</td>\n",
       "      <td>Rofl. Its true to its name</td>\n",
       "      <td>26</td>\n",
       "      <td>7</td>\n",
       "      <td>2</td>\n",
       "    </tr>\n",
       "  </tbody>\n",
       "</table>\n",
       "<p>5169 rows × 5 columns</p>\n",
       "</div>"
      ],
      "text/plain": [
       "      target                                            message  \\\n",
       "0          0  Go until jurong point, crazy.. Available only ...   \n",
       "1          0                      Ok lar... Joking wif u oni...   \n",
       "2          1  Free entry in 2 a wkly comp to win FA Cup fina...   \n",
       "3          0  U dun say so early hor... U c already then say...   \n",
       "4          0  Nah I don't think he goes to usf, he lives aro...   \n",
       "...      ...                                                ...   \n",
       "5567       1  This is the 2nd time we have tried 2 contact u...   \n",
       "5568       0              Will �_ b going to esplanade fr home?   \n",
       "5569       0  Pity, * was in mood for that. So...any other s...   \n",
       "5570       0  The guy did some bitching but I acted like i'd...   \n",
       "5571       0                         Rofl. Its true to its name   \n",
       "\n",
       "      num_characters  num_words  num_sentences  \n",
       "0                111         24              2  \n",
       "1                 29          8              2  \n",
       "2                155         37              2  \n",
       "3                 49         13              1  \n",
       "4                 61         15              1  \n",
       "...              ...        ...            ...  \n",
       "5567             160         35              4  \n",
       "5568              37          9              1  \n",
       "5569              57         15              2  \n",
       "5570             125         27              1  \n",
       "5571              26          7              2  \n",
       "\n",
       "[5169 rows x 5 columns]"
      ]
     },
     "execution_count": 633,
     "metadata": {},
     "output_type": "execute_result"
    }
   ],
   "source": [
    "dataset"
   ]
  },
  {
   "cell_type": "code",
   "execution_count": 634,
   "id": "8c5d56ae",
   "metadata": {},
   "outputs": [
    {
     "data": {
      "text/html": [
       "<div>\n",
       "<style scoped>\n",
       "    .dataframe tbody tr th:only-of-type {\n",
       "        vertical-align: middle;\n",
       "    }\n",
       "\n",
       "    .dataframe tbody tr th {\n",
       "        vertical-align: top;\n",
       "    }\n",
       "\n",
       "    .dataframe thead th {\n",
       "        text-align: right;\n",
       "    }\n",
       "</style>\n",
       "<table border=\"1\" class=\"dataframe\">\n",
       "  <thead>\n",
       "    <tr style=\"text-align: right;\">\n",
       "      <th></th>\n",
       "      <th>num_characters</th>\n",
       "      <th>num_words</th>\n",
       "      <th>num_sentences</th>\n",
       "    </tr>\n",
       "  </thead>\n",
       "  <tbody>\n",
       "    <tr>\n",
       "      <th>count</th>\n",
       "      <td>5169.000000</td>\n",
       "      <td>5169.000000</td>\n",
       "      <td>5169.000000</td>\n",
       "    </tr>\n",
       "    <tr>\n",
       "      <th>mean</th>\n",
       "      <td>78.923776</td>\n",
       "      <td>18.456375</td>\n",
       "      <td>1.962275</td>\n",
       "    </tr>\n",
       "    <tr>\n",
       "      <th>std</th>\n",
       "      <td>58.174846</td>\n",
       "      <td>13.323322</td>\n",
       "      <td>1.433892</td>\n",
       "    </tr>\n",
       "    <tr>\n",
       "      <th>min</th>\n",
       "      <td>2.000000</td>\n",
       "      <td>1.000000</td>\n",
       "      <td>1.000000</td>\n",
       "    </tr>\n",
       "    <tr>\n",
       "      <th>25%</th>\n",
       "      <td>36.000000</td>\n",
       "      <td>9.000000</td>\n",
       "      <td>1.000000</td>\n",
       "    </tr>\n",
       "    <tr>\n",
       "      <th>50%</th>\n",
       "      <td>60.000000</td>\n",
       "      <td>15.000000</td>\n",
       "      <td>1.000000</td>\n",
       "    </tr>\n",
       "    <tr>\n",
       "      <th>75%</th>\n",
       "      <td>117.000000</td>\n",
       "      <td>26.000000</td>\n",
       "      <td>2.000000</td>\n",
       "    </tr>\n",
       "    <tr>\n",
       "      <th>max</th>\n",
       "      <td>910.000000</td>\n",
       "      <td>220.000000</td>\n",
       "      <td>38.000000</td>\n",
       "    </tr>\n",
       "  </tbody>\n",
       "</table>\n",
       "</div>"
      ],
      "text/plain": [
       "       num_characters    num_words  num_sentences\n",
       "count     5169.000000  5169.000000    5169.000000\n",
       "mean        78.923776    18.456375       1.962275\n",
       "std         58.174846    13.323322       1.433892\n",
       "min          2.000000     1.000000       1.000000\n",
       "25%         36.000000     9.000000       1.000000\n",
       "50%         60.000000    15.000000       1.000000\n",
       "75%        117.000000    26.000000       2.000000\n",
       "max        910.000000   220.000000      38.000000"
      ]
     },
     "execution_count": 634,
     "metadata": {},
     "output_type": "execute_result"
    }
   ],
   "source": [
    "# statistical view of dataset\n",
    "dataset[['num_characters','num_words','num_sentences']].describe()"
   ]
  },
  {
   "cell_type": "code",
   "execution_count": 635,
   "id": "0ee5b8f3",
   "metadata": {},
   "outputs": [
    {
     "data": {
      "text/html": [
       "<div>\n",
       "<style scoped>\n",
       "    .dataframe tbody tr th:only-of-type {\n",
       "        vertical-align: middle;\n",
       "    }\n",
       "\n",
       "    .dataframe tbody tr th {\n",
       "        vertical-align: top;\n",
       "    }\n",
       "\n",
       "    .dataframe thead th {\n",
       "        text-align: right;\n",
       "    }\n",
       "</style>\n",
       "<table border=\"1\" class=\"dataframe\">\n",
       "  <thead>\n",
       "    <tr style=\"text-align: right;\">\n",
       "      <th></th>\n",
       "      <th>num_characters</th>\n",
       "      <th>num_words</th>\n",
       "      <th>num_sentences</th>\n",
       "    </tr>\n",
       "  </thead>\n",
       "  <tbody>\n",
       "    <tr>\n",
       "      <th>count</th>\n",
       "      <td>4516.000000</td>\n",
       "      <td>4516.000000</td>\n",
       "      <td>4516.000000</td>\n",
       "    </tr>\n",
       "    <tr>\n",
       "      <th>mean</th>\n",
       "      <td>70.456820</td>\n",
       "      <td>17.123339</td>\n",
       "      <td>1.815545</td>\n",
       "    </tr>\n",
       "    <tr>\n",
       "      <th>std</th>\n",
       "      <td>56.356802</td>\n",
       "      <td>13.491315</td>\n",
       "      <td>1.364098</td>\n",
       "    </tr>\n",
       "    <tr>\n",
       "      <th>min</th>\n",
       "      <td>2.000000</td>\n",
       "      <td>1.000000</td>\n",
       "      <td>1.000000</td>\n",
       "    </tr>\n",
       "    <tr>\n",
       "      <th>25%</th>\n",
       "      <td>34.000000</td>\n",
       "      <td>8.000000</td>\n",
       "      <td>1.000000</td>\n",
       "    </tr>\n",
       "    <tr>\n",
       "      <th>50%</th>\n",
       "      <td>52.000000</td>\n",
       "      <td>13.000000</td>\n",
       "      <td>1.000000</td>\n",
       "    </tr>\n",
       "    <tr>\n",
       "      <th>75%</th>\n",
       "      <td>90.000000</td>\n",
       "      <td>22.000000</td>\n",
       "      <td>2.000000</td>\n",
       "    </tr>\n",
       "    <tr>\n",
       "      <th>max</th>\n",
       "      <td>910.000000</td>\n",
       "      <td>220.000000</td>\n",
       "      <td>38.000000</td>\n",
       "    </tr>\n",
       "  </tbody>\n",
       "</table>\n",
       "</div>"
      ],
      "text/plain": [
       "       num_characters    num_words  num_sentences\n",
       "count     4516.000000  4516.000000    4516.000000\n",
       "mean        70.456820    17.123339       1.815545\n",
       "std         56.356802    13.491315       1.364098\n",
       "min          2.000000     1.000000       1.000000\n",
       "25%         34.000000     8.000000       1.000000\n",
       "50%         52.000000    13.000000       1.000000\n",
       "75%         90.000000    22.000000       2.000000\n",
       "max        910.000000   220.000000      38.000000"
      ]
     },
     "execution_count": 635,
     "metadata": {},
     "output_type": "execute_result"
    }
   ],
   "source": [
    "# statistical view of dataset accroding to ham\n",
    "dataset[dataset['target'] == 0][['num_characters','num_words','num_sentences']].describe()"
   ]
  },
  {
   "cell_type": "code",
   "execution_count": 636,
   "id": "0c2f2644",
   "metadata": {},
   "outputs": [
    {
     "data": {
      "text/html": [
       "<div>\n",
       "<style scoped>\n",
       "    .dataframe tbody tr th:only-of-type {\n",
       "        vertical-align: middle;\n",
       "    }\n",
       "\n",
       "    .dataframe tbody tr th {\n",
       "        vertical-align: top;\n",
       "    }\n",
       "\n",
       "    .dataframe thead th {\n",
       "        text-align: right;\n",
       "    }\n",
       "</style>\n",
       "<table border=\"1\" class=\"dataframe\">\n",
       "  <thead>\n",
       "    <tr style=\"text-align: right;\">\n",
       "      <th></th>\n",
       "      <th>num_characters</th>\n",
       "      <th>num_words</th>\n",
       "      <th>num_sentences</th>\n",
       "    </tr>\n",
       "  </thead>\n",
       "  <tbody>\n",
       "    <tr>\n",
       "      <th>count</th>\n",
       "      <td>653.000000</td>\n",
       "      <td>653.000000</td>\n",
       "      <td>653.000000</td>\n",
       "    </tr>\n",
       "    <tr>\n",
       "      <th>mean</th>\n",
       "      <td>137.479326</td>\n",
       "      <td>27.675345</td>\n",
       "      <td>2.977029</td>\n",
       "    </tr>\n",
       "    <tr>\n",
       "      <th>std</th>\n",
       "      <td>30.014336</td>\n",
       "      <td>7.011513</td>\n",
       "      <td>1.493676</td>\n",
       "    </tr>\n",
       "    <tr>\n",
       "      <th>min</th>\n",
       "      <td>13.000000</td>\n",
       "      <td>2.000000</td>\n",
       "      <td>1.000000</td>\n",
       "    </tr>\n",
       "    <tr>\n",
       "      <th>25%</th>\n",
       "      <td>131.000000</td>\n",
       "      <td>25.000000</td>\n",
       "      <td>2.000000</td>\n",
       "    </tr>\n",
       "    <tr>\n",
       "      <th>50%</th>\n",
       "      <td>148.000000</td>\n",
       "      <td>29.000000</td>\n",
       "      <td>3.000000</td>\n",
       "    </tr>\n",
       "    <tr>\n",
       "      <th>75%</th>\n",
       "      <td>157.000000</td>\n",
       "      <td>32.000000</td>\n",
       "      <td>4.000000</td>\n",
       "    </tr>\n",
       "    <tr>\n",
       "      <th>max</th>\n",
       "      <td>223.000000</td>\n",
       "      <td>46.000000</td>\n",
       "      <td>9.000000</td>\n",
       "    </tr>\n",
       "  </tbody>\n",
       "</table>\n",
       "</div>"
      ],
      "text/plain": [
       "       num_characters   num_words  num_sentences\n",
       "count      653.000000  653.000000     653.000000\n",
       "mean       137.479326   27.675345       2.977029\n",
       "std         30.014336    7.011513       1.493676\n",
       "min         13.000000    2.000000       1.000000\n",
       "25%        131.000000   25.000000       2.000000\n",
       "50%        148.000000   29.000000       3.000000\n",
       "75%        157.000000   32.000000       4.000000\n",
       "max        223.000000   46.000000       9.000000"
      ]
     },
     "execution_count": 636,
     "metadata": {},
     "output_type": "execute_result"
    }
   ],
   "source": [
    "# statistical view of dataset accroding to spam\n",
    "dataset[dataset['target'] == 1][['num_characters','num_words','num_sentences']].describe()"
   ]
  },
  {
   "cell_type": "code",
   "execution_count": 637,
   "id": "3660b786",
   "metadata": {},
   "outputs": [
    {
     "data": {
      "text/plain": [
       "<AxesSubplot:xlabel='num_characters', ylabel='Count'>"
      ]
     },
     "execution_count": 637,
     "metadata": {},
     "output_type": "execute_result"
    },
    {
     "data": {
      "image/png": "[encoded data removed]",
      "text/plain": [
       "<Figure size 864x432 with 1 Axes>"
      ]
     },
     "metadata": {
      "needs_background": "light"
     },
     "output_type": "display_data"
    }
   ],
   "source": [
    "# visualizing num_characters accroding to target\n",
    "import seaborn as sns\n",
    "plt.figure(figsize=(12,6))\n",
    "sns.histplot(dataset[dataset['target'] == 0]['num_characters'])\n",
    "sns.histplot(dataset[dataset['target'] == 1]['num_characters'],color='red')"
   ]
  },
  {
   "cell_type": "code",
   "execution_count": 638,
   "id": "cd60ed07",
   "metadata": {},
   "outputs": [
    {
     "data": {
      "text/plain": [
       "<AxesSubplot:xlabel='num_words', ylabel='Count'>"
      ]
     },
     "execution_count": 638,
     "metadata": {},
     "output_type": "execute_result"
    },
    {
     "data": {
      "image/png": "[encoded data removed]",
      "text/plain": [
       "<Figure size 864x432 with 1 Axes>"
      ]
     },
     "metadata": {
      "needs_background": "light"
     },
     "output_type": "display_data"
    }
   ],
   "source": [
    "# visualizing num_words accroding to targe\n",
    "plt.figure(figsize=(12,6))\n",
    "sns.histplot(dataset[dataset['target'] == 0]['num_words'])\n",
    "sns.histplot(dataset[dataset['target'] == 1]['num_words'],color='red')"
   ]
  },
  {
   "cell_type": "code",
   "execution_count": 639,
   "id": "46ee13bf",
   "metadata": {},
   "outputs": [
    {
     "data": {
      "text/plain": [
       "<seaborn.axisgrid.PairGrid at 0x1ec816726a0>"
      ]
     },
     "execution_count": 639,
     "metadata": {},
     "output_type": "execute_result"
    },
    {
     "data": {
      "image/png": "[encoded data removed]",
      "text/plain": [
       "<Figure size 582.375x540 with 12 Axes>"
      ]
     },
     "metadata": {
      "needs_background": "light"
     },
     "output_type": "display_data"
    }
   ],
   "source": [
    "# visualizing dataset in pairplot\n",
    "sns.pairplot(dataset,hue='target')"
   ]
  },
  {
   "cell_type": "code",
   "execution_count": 640,
   "id": "0b5977c5",
   "metadata": {},
   "outputs": [
    {
     "data": {
      "text/plain": [
       "<AxesSubplot:>"
      ]
     },
     "execution_count": 640,
     "metadata": {},
     "output_type": "execute_result"
    },
    {
     "data": {
      "image/png": "[encoded data removed]",
      "text/plain": [
       "<Figure size 432x288 with 2 Axes>"
      ]
     },
     "metadata": {
      "needs_background": "light"
     },
     "output_type": "display_data"
    }
   ],
   "source": [
    "# visualizing in correlation between dataset\n",
    "sns.heatmap(dataset.corr(),annot=True)"
   ]
  },
  {
   "cell_type": "code",
   "execution_count": 641,
   "id": "5cea427e",
   "metadata": {},
   "outputs": [
    {
     "name": "stderr",
     "output_type": "stream",
     "text": [
      "[nltk_data] Downloading package stopwords to\n",
      "[nltk_data]     C:\\Users\\User\\AppData\\Roaming\\nltk_data...\n",
      "[nltk_data]   Package stopwords is already up-to-date!\n"
     ]
    },
    {
     "data": {
      "text/plain": [
       "True"
      ]
     },
     "execution_count": 641,
     "metadata": {},
     "output_type": "execute_result"
    }
   ],
   "source": [
    "# download stopwords\n",
    "from nltk.corpus import stopwords\n",
    "from nltk.stem.porter import PorterStemmer\n",
    "ps = PorterStemmer()\n",
    "\n",
    "import string\n",
    "nltk.download('stopwords')"
   ]
  },
  {
   "cell_type": "code",
   "execution_count": 642,
   "id": "f930e223",
   "metadata": {},
   "outputs": [],
   "source": [
    "# cleaning message \n",
    "def transform_text(text):\n",
    "    text = text.lower()\n",
    "    text = nltk.word_tokenize(text)\n",
    "    \n",
    "    y = []\n",
    "    for i in text:\n",
    "        if i.isalnum():\n",
    "            y.append(i)\n",
    "    \n",
    "    text = y[:]\n",
    "    y.clear()\n",
    "    \n",
    "    for i in text:\n",
    "        if i not in stopwords.words('english') and i not in string.punctuation:\n",
    "            y.append(i)\n",
    "            \n",
    "    text = y[:]\n",
    "    y.clear()\n",
    "    \n",
    "    for i in text:\n",
    "        y.append(ps.stem(i))\n",
    "    \n",
    "            \n",
    "    return \" \".join(y)"
   ]
  },
  {
   "cell_type": "code",
   "execution_count": 643,
   "id": "b875c2c0",
   "metadata": {},
   "outputs": [],
   "source": [
    "dataset['transformed_text'] = dataset['message'].apply(transform_text)"
   ]
  },
  {
   "cell_type": "code",
   "execution_count": 644,
   "id": "67e4aaf0",
   "metadata": {},
   "outputs": [
    {
     "data": {
      "text/html": [
       "<div>\n",
       "<style scoped>\n",
       "    .dataframe tbody tr th:only-of-type {\n",
       "        vertical-align: middle;\n",
       "    }\n",
       "\n",
       "    .dataframe tbody tr th {\n",
       "        vertical-align: top;\n",
       "    }\n",
       "\n",
       "    .dataframe thead th {\n",
       "        text-align: right;\n",
       "    }\n",
       "</style>\n",
       "<table border=\"1\" class=\"dataframe\">\n",
       "  <thead>\n",
       "    <tr style=\"text-align: right;\">\n",
       "      <th></th>\n",
       "      <th>target</th>\n",
       "      <th>message</th>\n",
       "      <th>num_characters</th>\n",
       "      <th>num_words</th>\n",
       "      <th>num_sentences</th>\n",
       "      <th>transformed_text</th>\n",
       "    </tr>\n",
       "  </thead>\n",
       "  <tbody>\n",
       "    <tr>\n",
       "      <th>0</th>\n",
       "      <td>0</td>\n",
       "      <td>Go until jurong point, crazy.. Available only ...</td>\n",
       "      <td>111</td>\n",
       "      <td>24</td>\n",
       "      <td>2</td>\n",
       "      <td>go jurong point crazi avail bugi n great world...</td>\n",
       "    </tr>\n",
       "    <tr>\n",
       "      <th>1</th>\n",
       "      <td>0</td>\n",
       "      <td>Ok lar... Joking wif u oni...</td>\n",
       "      <td>29</td>\n",
       "      <td>8</td>\n",
       "      <td>2</td>\n",
       "      <td>ok lar joke wif u oni</td>\n",
       "    </tr>\n",
       "    <tr>\n",
       "      <th>2</th>\n",
       "      <td>1</td>\n",
       "      <td>Free entry in 2 a wkly comp to win FA Cup fina...</td>\n",
       "      <td>155</td>\n",
       "      <td>37</td>\n",
       "      <td>2</td>\n",
       "      <td>free entri 2 wkli comp win fa cup final tkt 21...</td>\n",
       "    </tr>\n",
       "    <tr>\n",
       "      <th>3</th>\n",
       "      <td>0</td>\n",
       "      <td>U dun say so early hor... U c already then say...</td>\n",
       "      <td>49</td>\n",
       "      <td>13</td>\n",
       "      <td>1</td>\n",
       "      <td>u dun say earli hor u c alreadi say</td>\n",
       "    </tr>\n",
       "    <tr>\n",
       "      <th>4</th>\n",
       "      <td>0</td>\n",
       "      <td>Nah I don't think he goes to usf, he lives aro...</td>\n",
       "      <td>61</td>\n",
       "      <td>15</td>\n",
       "      <td>1</td>\n",
       "      <td>nah think goe usf live around though</td>\n",
       "    </tr>\n",
       "    <tr>\n",
       "      <th>...</th>\n",
       "      <td>...</td>\n",
       "      <td>...</td>\n",
       "      <td>...</td>\n",
       "      <td>...</td>\n",
       "      <td>...</td>\n",
       "      <td>...</td>\n",
       "    </tr>\n",
       "    <tr>\n",
       "      <th>5567</th>\n",
       "      <td>1</td>\n",
       "      <td>This is the 2nd time we have tried 2 contact u...</td>\n",
       "      <td>160</td>\n",
       "      <td>35</td>\n",
       "      <td>4</td>\n",
       "      <td>2nd time tri 2 contact u pound prize 2 claim e...</td>\n",
       "    </tr>\n",
       "    <tr>\n",
       "      <th>5568</th>\n",
       "      <td>0</td>\n",
       "      <td>Will �_ b going to esplanade fr home?</td>\n",
       "      <td>37</td>\n",
       "      <td>9</td>\n",
       "      <td>1</td>\n",
       "      <td>b go esplanad fr home</td>\n",
       "    </tr>\n",
       "    <tr>\n",
       "      <th>5569</th>\n",
       "      <td>0</td>\n",
       "      <td>Pity, * was in mood for that. So...any other s...</td>\n",
       "      <td>57</td>\n",
       "      <td>15</td>\n",
       "      <td>2</td>\n",
       "      <td>piti mood suggest</td>\n",
       "    </tr>\n",
       "    <tr>\n",
       "      <th>5570</th>\n",
       "      <td>0</td>\n",
       "      <td>The guy did some bitching but I acted like i'd...</td>\n",
       "      <td>125</td>\n",
       "      <td>27</td>\n",
       "      <td>1</td>\n",
       "      <td>guy bitch act like interest buy someth els nex...</td>\n",
       "    </tr>\n",
       "    <tr>\n",
       "      <th>5571</th>\n",
       "      <td>0</td>\n",
       "      <td>Rofl. Its true to its name</td>\n",
       "      <td>26</td>\n",
       "      <td>7</td>\n",
       "      <td>2</td>\n",
       "      <td>rofl true name</td>\n",
       "    </tr>\n",
       "  </tbody>\n",
       "</table>\n",
       "<p>5169 rows × 6 columns</p>\n",
       "</div>"
      ],
      "text/plain": [
       "      target                                            message  \\\n",
       "0          0  Go until jurong point, crazy.. Available only ...   \n",
       "1          0                      Ok lar... Joking wif u oni...   \n",
       "2          1  Free entry in 2 a wkly comp to win FA Cup fina...   \n",
       "3          0  U dun say so early hor... U c already then say...   \n",
       "4          0  Nah I don't think he goes to usf, he lives aro...   \n",
       "...      ...                                                ...   \n",
       "5567       1  This is the 2nd time we have tried 2 contact u...   \n",
       "5568       0              Will �_ b going to esplanade fr home?   \n",
       "5569       0  Pity, * was in mood for that. So...any other s...   \n",
       "5570       0  The guy did some bitching but I acted like i'd...   \n",
       "5571       0                         Rofl. Its true to its name   \n",
       "\n",
       "      num_characters  num_words  num_sentences  \\\n",
       "0                111         24              2   \n",
       "1                 29          8              2   \n",
       "2                155         37              2   \n",
       "3                 49         13              1   \n",
       "4                 61         15              1   \n",
       "...              ...        ...            ...   \n",
       "5567             160         35              4   \n",
       "5568              37          9              1   \n",
       "5569              57         15              2   \n",
       "5570             125         27              1   \n",
       "5571              26          7              2   \n",
       "\n",
       "                                       transformed_text  \n",
       "0     go jurong point crazi avail bugi n great world...  \n",
       "1                                 ok lar joke wif u oni  \n",
       "2     free entri 2 wkli comp win fa cup final tkt 21...  \n",
       "3                   u dun say earli hor u c alreadi say  \n",
       "4                  nah think goe usf live around though  \n",
       "...                                                 ...  \n",
       "5567  2nd time tri 2 contact u pound prize 2 claim e...  \n",
       "5568                              b go esplanad fr home  \n",
       "5569                                  piti mood suggest  \n",
       "5570  guy bitch act like interest buy someth els nex...  \n",
       "5571                                     rofl true name  \n",
       "\n",
       "[5169 rows x 6 columns]"
      ]
     },
     "execution_count": 644,
     "metadata": {},
     "output_type": "execute_result"
    }
   ],
   "source": [
    "dataset"
   ]
  },
  {
   "cell_type": "code",
   "execution_count": 645,
   "id": "94eac301",
   "metadata": {},
   "outputs": [],
   "source": [
    "# visulizing text\n",
    "from wordcloud import WordCloud\n",
    "wc = WordCloud(width=500,height=500,min_font_size=10,background_color='white')"
   ]
  },
  {
   "cell_type": "code",
   "execution_count": 646,
   "id": "606c4a7a",
   "metadata": {},
   "outputs": [
    {
     "data": {
      "text/plain": [
       "<matplotlib.image.AxesImage at 0x1ec89ec0790>"
      ]
     },
     "execution_count": 646,
     "metadata": {},
     "output_type": "execute_result"
    },
    {
     "data": {
      "image/png": "[encoded data removed]",
      "text/plain": [
       "<Figure size 1080x432 with 1 Axes>"
      ]
     },
     "metadata": {
      "needs_background": "light"
     },
     "output_type": "display_data"
    }
   ],
   "source": [
    "# visualizing text from message with class target\n",
    "spam_wc = wc.generate(dataset[dataset['target'] == 1]['transformed_text'].str.cat(sep=\" \"))\n",
    "plt.figure(figsize=(15,6))\n",
    "plt.imshow(spam_wc)"
   ]
  },
  {
   "cell_type": "code",
   "execution_count": 647,
   "id": "68cbb396",
   "metadata": {},
   "outputs": [
    {
     "data": {
      "text/plain": [
       "<matplotlib.image.AxesImage at 0x1ec89ff2520>"
      ]
     },
     "execution_count": 647,
     "metadata": {},
     "output_type": "execute_result"
    },
    {
     "data": {
      "image/png": "[encoded data removed]",
      "text/plain": [
       "<Figure size 1080x432 with 1 Axes>"
      ]
     },
     "metadata": {
      "needs_background": "light"
     },
     "output_type": "display_data"
    }
   ],
   "source": [
    "# visualizing text from message with class target\n",
    "ham_wc = wc.generate(dataset[dataset['target'] == 0]['transformed_text'].str.cat(sep=\" \"))\n",
    "plt.figure(figsize=(15,6))\n",
    "plt.imshow(ham_wc)"
   ]
  },
  {
   "cell_type": "code",
   "execution_count": 648,
   "id": "65aca47a",
   "metadata": {},
   "outputs": [
    {
     "data": {
      "text/html": [
       "<div>\n",
       "<style scoped>\n",
       "    .dataframe tbody tr th:only-of-type {\n",
       "        vertical-align: middle;\n",
       "    }\n",
       "\n",
       "    .dataframe tbody tr th {\n",
       "        vertical-align: top;\n",
       "    }\n",
       "\n",
       "    .dataframe thead th {\n",
       "        text-align: right;\n",
       "    }\n",
       "</style>\n",
       "<table border=\"1\" class=\"dataframe\">\n",
       "  <thead>\n",
       "    <tr style=\"text-align: right;\">\n",
       "      <th></th>\n",
       "      <th>target</th>\n",
       "      <th>message</th>\n",
       "      <th>num_characters</th>\n",
       "      <th>num_words</th>\n",
       "      <th>num_sentences</th>\n",
       "      <th>transformed_text</th>\n",
       "    </tr>\n",
       "  </thead>\n",
       "  <tbody>\n",
       "    <tr>\n",
       "      <th>0</th>\n",
       "      <td>0</td>\n",
       "      <td>Go until jurong point, crazy.. Available only ...</td>\n",
       "      <td>111</td>\n",
       "      <td>24</td>\n",
       "      <td>2</td>\n",
       "      <td>go jurong point crazi avail bugi n great world...</td>\n",
       "    </tr>\n",
       "    <tr>\n",
       "      <th>1</th>\n",
       "      <td>0</td>\n",
       "      <td>Ok lar... Joking wif u oni...</td>\n",
       "      <td>29</td>\n",
       "      <td>8</td>\n",
       "      <td>2</td>\n",
       "      <td>ok lar joke wif u oni</td>\n",
       "    </tr>\n",
       "    <tr>\n",
       "      <th>2</th>\n",
       "      <td>1</td>\n",
       "      <td>Free entry in 2 a wkly comp to win FA Cup fina...</td>\n",
       "      <td>155</td>\n",
       "      <td>37</td>\n",
       "      <td>2</td>\n",
       "      <td>free entri 2 wkli comp win fa cup final tkt 21...</td>\n",
       "    </tr>\n",
       "    <tr>\n",
       "      <th>3</th>\n",
       "      <td>0</td>\n",
       "      <td>U dun say so early hor... U c already then say...</td>\n",
       "      <td>49</td>\n",
       "      <td>13</td>\n",
       "      <td>1</td>\n",
       "      <td>u dun say earli hor u c alreadi say</td>\n",
       "    </tr>\n",
       "    <tr>\n",
       "      <th>4</th>\n",
       "      <td>0</td>\n",
       "      <td>Nah I don't think he goes to usf, he lives aro...</td>\n",
       "      <td>61</td>\n",
       "      <td>15</td>\n",
       "      <td>1</td>\n",
       "      <td>nah think goe usf live around though</td>\n",
       "    </tr>\n",
       "  </tbody>\n",
       "</table>\n",
       "</div>"
      ],
      "text/plain": [
       "   target                                            message  num_characters  \\\n",
       "0       0  Go until jurong point, crazy.. Available only ...             111   \n",
       "1       0                      Ok lar... Joking wif u oni...              29   \n",
       "2       1  Free entry in 2 a wkly comp to win FA Cup fina...             155   \n",
       "3       0  U dun say so early hor... U c already then say...              49   \n",
       "4       0  Nah I don't think he goes to usf, he lives aro...              61   \n",
       "\n",
       "   num_words  num_sentences                                   transformed_text  \n",
       "0         24              2  go jurong point crazi avail bugi n great world...  \n",
       "1          8              2                              ok lar joke wif u oni  \n",
       "2         37              2  free entri 2 wkli comp win fa cup final tkt 21...  \n",
       "3         13              1                u dun say earli hor u c alreadi say  \n",
       "4         15              1               nah think goe usf live around though  "
      ]
     },
     "execution_count": 648,
     "metadata": {},
     "output_type": "execute_result"
    }
   ],
   "source": [
    "dataset.head()"
   ]
  },
  {
   "cell_type": "code",
   "execution_count": 649,
   "id": "400146c8",
   "metadata": {},
   "outputs": [],
   "source": [
    "spam_corpus = []\n",
    "for msg in dataset[dataset['target'] == 1]['transformed_text'].tolist():\n",
    "    for word in msg.split():\n",
    "        spam_corpus.append(word)\n",
    "        "
   ]
  },
  {
   "cell_type": "code",
   "execution_count": 650,
   "id": "65fea1de",
   "metadata": {},
   "outputs": [
    {
     "name": "stderr",
     "output_type": "stream",
     "text": [
      "C:\\Users\\User\\anaconda3\\lib\\site-packages\\seaborn\\_decorators.py:36: FutureWarning: Pass the following variables as keyword args: x, y. From version 0.12, the only valid positional argument will be `data`, and passing other arguments without an explicit keyword will result in an error or misinterpretation.\n",
      "  warnings.warn(\n"
     ]
    },
    {
     "data": {
      "image/png": "[encoded data removed]",
      "text/plain": [
       "<Figure size 432x288 with 1 Axes>"
      ]
     },
     "metadata": {
      "needs_background": "light"
     },
     "output_type": "display_data"
    }
   ],
   "source": [
    "# visualizig top words in barplot accroding to spam\n",
    "import seaborn as sns\n",
    "from collections import Counter\n",
    "sns.barplot(pd.DataFrame(Counter(spam_corpus).most_common(30))[0],pd.DataFrame(Counter(spam_corpus).most_common(30))[1])\n",
    "plt.xticks(rotation='vertical')\n",
    "plt.show()"
   ]
  },
  {
   "cell_type": "code",
   "execution_count": 651,
   "id": "753bf369",
   "metadata": {},
   "outputs": [],
   "source": [
    "ham_corpus = []\n",
    "for msg in dataset[dataset['target'] == 0]['transformed_text'].tolist():\n",
    "    for word in msg.split():\n",
    "        ham_corpus.append(word)"
   ]
  },
  {
   "cell_type": "code",
   "execution_count": 652,
   "id": "7afc88af",
   "metadata": {},
   "outputs": [
    {
     "name": "stderr",
     "output_type": "stream",
     "text": [
      "C:\\Users\\User\\anaconda3\\lib\\site-packages\\seaborn\\_decorators.py:36: FutureWarning: Pass the following variables as keyword args: x, y. From version 0.12, the only valid positional argument will be `data`, and passing other arguments without an explicit keyword will result in an error or misinterpretation.\n",
      "  warnings.warn(\n"
     ]
    },
    {
     "data": {
      "image/png": "[encoded data removed]",
      "text/plain": [
       "<Figure size 432x288 with 1 Axes>"
      ]
     },
     "metadata": {
      "needs_background": "light"
     },
     "output_type": "display_data"
    }
   ],
   "source": [
    "# visualizig top words in barplot accroding to ham\n",
    "sns.barplot(pd.DataFrame(Counter(ham_corpus).most_common(30))[0],pd.DataFrame(Counter(ham_corpus).most_common(30))[1])\n",
    "plt.xticks(rotation='vertical')\n",
    "plt.show()"
   ]
  },
  {
   "cell_type": "markdown",
   "id": "c9d1c224",
   "metadata": {},
   "source": [
    "# 5. Data Preparing"
   ]
  },
  {
   "cell_type": "code",
   "execution_count": 659,
   "id": "a52d8f2b",
   "metadata": {},
   "outputs": [],
   "source": [
    "from sklearn.feature_extraction.text import CountVectorizer,TfidfVectorizer\n",
    "cv = CountVectorizer(max_features=3000)\n",
    "tfidf = TfidfVectorizer(max_features=3000)"
   ]
  },
  {
   "cell_type": "code",
   "execution_count": 660,
   "id": "e21ab9e2",
   "metadata": {},
   "outputs": [
    {
     "data": {
      "text/plain": [
       "(5169, 3000)"
      ]
     },
     "execution_count": 660,
     "metadata": {},
     "output_type": "execute_result"
    }
   ],
   "source": [
    "X_cv = cv.fit_transform(dataset['transformed_text']).toarray()\n",
    "X_tf = tfidf.fit_transform(dataset['transformed_text']).toarray()\n",
    "y = dataset['target'].values\n",
    "X_cv.shape"
   ]
  },
  {
   "cell_type": "code",
   "execution_count": 661,
   "id": "d2f83dcf",
   "metadata": {},
   "outputs": [],
   "source": [
    "from sklearn.model_selection import train_test_split\n",
    "from sklearn.preprocessing import MinMaxScaler\n",
    "\n",
    "# normal data\n",
    "cv_X_train,cv_X_test,cv_y_train,cv_y_test = train_test_split(X_cv,y,test_size=0.2,random_state=2)\n",
    "tf_X_train,tf_X_test,tf_y_train,tf_y_test = train_test_split(X_tf,y,test_size=0.2,random_state=2)\n",
    "\n",
    "# scaling data\n",
    "scaler = MinMaxScaler()\n",
    "s_cv_X_train,s_cv_X_test,s_cv_y_train,s_cv_y_test = train_test_split(scaler.fit_transform(X_cv),y,test_size=0.2,random_state=2)\n",
    "s_tf_X_train,s_tf_X_test,s_tf_y_train,s_tf_y_test = train_test_split(scaler.fit_transform(X_tf),y,test_size=0.2,random_state=2)\n"
   ]
  },
  {
   "cell_type": "markdown",
   "id": "c18cb801",
   "metadata": {},
   "source": [
    "# 6. Desiging base model"
   ]
  },
  {
   "cell_type": "code",
   "execution_count": 662,
   "id": "78c720f6",
   "metadata": {},
   "outputs": [],
   "source": [
    "from sklearn.naive_bayes import GaussianNB,MultinomialNB,BernoulliNB\n",
    "from sklearn.metrics import accuracy_score,confusion_matrix,precision_score"
   ]
  },
  {
   "cell_type": "code",
   "execution_count": 663,
   "id": "872a2421",
   "metadata": {},
   "outputs": [],
   "source": [
    "gnb = GaussianNB()\n",
    "mnb = MultinomialNB()\n",
    "bnb = BernoulliNB()\n"
   ]
  },
  {
   "cell_type": "code",
   "execution_count": 664,
   "id": "58357840",
   "metadata": {},
   "outputs": [
    {
     "name": "stdout",
     "output_type": "stream",
     "text": [
      "0.971953578336557\n",
      "0.971953578336557\n"
     ]
    }
   ],
   "source": [
    "mnb = MultinomialNB()\n",
    "mnb.fit(tf_X_train,tf_y_train)\n",
    "y_pred = mnb.predict(tf_X_test)\n",
    "print(accuracy_score(tf_y_test,y_pred))\n",
    "print(accuracy_score(tf_y_test,y_pred))"
   ]
  },
  {
   "cell_type": "code",
   "execution_count": 665,
   "id": "032dcf21",
   "metadata": {},
   "outputs": [],
   "source": [
    "def basemodel_table(model,X_train,X_test,y_train,y_test):\n",
    "    model.fit(X_train,y_train)\n",
    "    y_pred = model.predict(X_test)\n",
    "    return [accuracy_score(y_test,y_pred),accuracy_score(y_test,y_pred)]\n",
    "    "
   ]
  },
  {
   "cell_type": "code",
   "execution_count": 666,
   "id": "395664eb",
   "metadata": {},
   "outputs": [
    {
     "data": {
      "text/html": [
       "<div>\n",
       "<style scoped>\n",
       "    .dataframe tbody tr th:only-of-type {\n",
       "        vertical-align: middle;\n",
       "    }\n",
       "\n",
       "    .dataframe tbody tr th {\n",
       "        vertical-align: top;\n",
       "    }\n",
       "\n",
       "    .dataframe thead th {\n",
       "        text-align: right;\n",
       "    }\n",
       "</style>\n",
       "<table border=\"1\" class=\"dataframe\">\n",
       "  <thead>\n",
       "    <tr style=\"text-align: right;\">\n",
       "      <th></th>\n",
       "      <th>measure</th>\n",
       "      <th>GaussianNB c</th>\n",
       "      <th>MultinomialNB c</th>\n",
       "      <th>BernoulliNB c</th>\n",
       "      <th>GaussianNB scaled c</th>\n",
       "      <th>MultinomialNB scaled c</th>\n",
       "      <th>BernoulliNB scaled c</th>\n",
       "      <th>BernoulliNB t</th>\n",
       "      <th>GaussianNB scaled t</th>\n",
       "      <th>MultinomialNB scaled t</th>\n",
       "      <th>BernoulliNB scaled t</th>\n",
       "    </tr>\n",
       "  </thead>\n",
       "  <tbody>\n",
       "    <tr>\n",
       "      <th>0</th>\n",
       "      <td>accuracy</td>\n",
       "      <td>0.874275</td>\n",
       "      <td>0.972921</td>\n",
       "      <td>0.983559</td>\n",
       "      <td>0.87234</td>\n",
       "      <td>0.976789</td>\n",
       "      <td>0.983559</td>\n",
       "      <td>0.983559</td>\n",
       "      <td>0.87234</td>\n",
       "      <td>0.976789</td>\n",
       "      <td>0.983559</td>\n",
       "    </tr>\n",
       "    <tr>\n",
       "      <th>1</th>\n",
       "      <td>precision</td>\n",
       "      <td>0.874275</td>\n",
       "      <td>0.972921</td>\n",
       "      <td>0.983559</td>\n",
       "      <td>0.87234</td>\n",
       "      <td>0.976789</td>\n",
       "      <td>0.983559</td>\n",
       "      <td>0.983559</td>\n",
       "      <td>0.87234</td>\n",
       "      <td>0.976789</td>\n",
       "      <td>0.983559</td>\n",
       "    </tr>\n",
       "  </tbody>\n",
       "</table>\n",
       "</div>"
      ],
      "text/plain": [
       "     measure  GaussianNB c  MultinomialNB c  BernoulliNB c  \\\n",
       "0   accuracy      0.874275         0.972921       0.983559   \n",
       "1  precision      0.874275         0.972921       0.983559   \n",
       "\n",
       "   GaussianNB scaled c  MultinomialNB scaled c  BernoulliNB scaled c  \\\n",
       "0              0.87234                0.976789              0.983559   \n",
       "1              0.87234                0.976789              0.983559   \n",
       "\n",
       "   BernoulliNB t  GaussianNB scaled t  MultinomialNB scaled t  \\\n",
       "0       0.983559              0.87234                0.976789   \n",
       "1       0.983559              0.87234                0.976789   \n",
       "\n",
       "   BernoulliNB scaled t  \n",
       "0              0.983559  \n",
       "1              0.983559  "
      ]
     },
     "execution_count": 666,
     "metadata": {},
     "output_type": "execute_result"
    }
   ],
   "source": [
    "base_model_info=pd.DataFrame(data=[\"accuracy\",\"precision\"],columns=[\"measure\"])\n",
    "base_model_info[\"GaussianNB c\"]=pd.DataFrame(basemodel_table(gnb,cv_X_train,cv_X_test,cv_y_train,cv_y_test))\n",
    "base_model_info[\"MultinomialNB c\"]=pd.DataFrame(basemodel_table(mnb,cv_X_train,cv_X_test,cv_y_train,cv_y_test))\n",
    "base_model_info[\"BernoulliNB c\"]=pd.DataFrame(basemodel_table(bnb,cv_X_train,cv_X_test,cv_y_train,cv_y_test))\n",
    "base_model_info[\"GaussianNB scaled c\"]=pd.DataFrame(basemodel_table(gnb,s_cv_X_train,s_cv_X_test,s_cv_y_train,s_cv_y_test))\n",
    "base_model_info[\"MultinomialNB scaled c\"]=pd.DataFrame(basemodel_table(mnb,s_cv_X_train,s_cv_X_test,s_cv_y_train,s_cv_y_test))\n",
    "base_model_info[\"BernoulliNB scaled c\"]=pd.DataFrame(basemodel_table(bnb,s_cv_X_train,s_cv_X_test,s_cv_y_train,s_cv_y_test))\n",
    "base_model_info[\"GaussianNB c\"]=pd.DataFrame(basemodel_table(gnb,cv_X_train,cv_X_test,cv_y_train,cv_y_test))\n",
    "base_model_info[\"MultinomialNB c\"]=pd.DataFrame(basemodel_table(mnb,cv_X_train,cv_X_test,cv_y_train,cv_y_test))\n",
    "base_model_info[\"BernoulliNB t\"]=pd.DataFrame(basemodel_table(bnb,cv_X_train,cv_X_test,cv_y_train,cv_y_test))\n",
    "base_model_info[\"GaussianNB scaled t\"]=pd.DataFrame(basemodel_table(gnb,s_cv_X_train,s_cv_X_test,s_cv_y_train,s_cv_y_test))\n",
    "base_model_info[\"MultinomialNB scaled t\"]=pd.DataFrame(basemodel_table(mnb,s_cv_X_train,s_cv_X_test,s_cv_y_train,s_cv_y_test))\n",
    "base_model_info[\"BernoulliNB scaled t\"]=pd.DataFrame(basemodel_table(bnb,s_cv_X_train,s_cv_X_test,s_cv_y_train,s_cv_y_test))\n",
    "base_model_info\n"
   ]
  },
  {
   "cell_type": "code",
   "execution_count": 667,
   "id": "f3a6e88b",
   "metadata": {},
   "outputs": [
    {
     "data": {
      "text/plain": [
       "0    0.983559\n",
       "1    0.983559\n",
       "dtype: float64"
      ]
     },
     "execution_count": 667,
     "metadata": {},
     "output_type": "execute_result"
    }
   ],
   "source": [
    "base_model_info.max(axis=1)"
   ]
  },
  {
   "cell_type": "raw",
   "id": "8d413dd2",
   "metadata": {},
   "source": [
    "BernoulliNB works better among all the base model."
   ]
  },
  {
   "cell_type": "markdown",
   "id": "b118d366",
   "metadata": {},
   "source": [
    "# 7. finding  Best Models "
   ]
  },
  {
   "cell_type": "code",
   "execution_count": 668,
   "id": "3e7e505a",
   "metadata": {},
   "outputs": [
    {
     "name": "stdout",
     "output_type": "stream",
     "text": [
      "Requirement already satisfied: xgboost in c:\\users\\user\\anaconda3\\lib\\site-packages (1.5.2)\n",
      "Requirement already satisfied: scipy in c:\\users\\user\\anaconda3\\lib\\site-packages (from xgboost) (1.6.2)\n",
      "Requirement already satisfied: numpy in c:\\users\\user\\anaconda3\\lib\\site-packages (from xgboost) (1.20.1)\n"
     ]
    }
   ],
   "source": [
    "!pip install xgboost"
   ]
  },
  {
   "cell_type": "code",
   "execution_count": 669,
   "id": "2f53d66c",
   "metadata": {},
   "outputs": [],
   "source": [
    "from sklearn.linear_model import LogisticRegression\n",
    "from sklearn.svm import SVC\n",
    "from sklearn.naive_bayes import BernoulliNB\n",
    "from sklearn.tree import DecisionTreeClassifier\n",
    "from sklearn.neighbors import KNeighborsClassifier\n",
    "from sklearn.ensemble import RandomForestClassifier\n",
    "from sklearn.ensemble import AdaBoostClassifier\n",
    "from sklearn.ensemble import BaggingClassifier\n",
    "from sklearn.ensemble import ExtraTreesClassifier\n",
    "from sklearn.ensemble import GradientBoostingClassifier\n",
    "from xgboost import XGBClassifier"
   ]
  },
  {
   "cell_type": "code",
   "execution_count": 670,
   "id": "e506f974",
   "metadata": {},
   "outputs": [],
   "source": [
    "# random intialization of model\n",
    "svc = SVC(kernel='sigmoid', gamma=1.0)\n",
    "knc = KNeighborsClassifier()\n",
    "mnb = BernoulliNB()\n",
    "dtc = DecisionTreeClassifier(max_depth=5)\n",
    "lrc = LogisticRegression(solver='liblinear', penalty='l1')\n",
    "rfc = RandomForestClassifier(n_estimators=20, random_state=2)\n",
    "abc = AdaBoostClassifier(n_estimators=20, random_state=2)\n",
    "bc = BaggingClassifier(n_estimators=20, random_state=2)\n",
    "etc = ExtraTreesClassifier(n_estimators=20, random_state=2)\n",
    "gbdt = GradientBoostingClassifier(n_estimators=20,random_state=2)\n",
    "xgb = XGBClassifier(n_estimators=20,random_state=2)\n",
    "clfs = {\n",
    "    'SVC' : svc,\n",
    "    'KN' : knc, \n",
    "    'NB': mnb, \n",
    "    'DT': dtc, \n",
    "    'LR': lrc, \n",
    "    'RF': rfc, \n",
    "    'AdaBoost': abc, \n",
    "    'BgC': bc, \n",
    "    'ETC': etc,\n",
    "    'GBDT':gbdt,\n",
    "    'xgb':xgb\n",
    "}\n",
    "def train_classifier(clf,X_train,X_test,y_train,y_test):\n",
    "    clf.fit(X_train,y_train)\n",
    "    y_pred = clf.predict(X_test)\n",
    "    accuracy = accuracy_score(y_test,y_pred)\n",
    "    precision = precision_score(y_test,y_pred)\n",
    "    return accuracy,precision"
   ]
  },
  {
   "cell_type": "code",
   "execution_count": 671,
   "id": "6c3de36c",
   "metadata": {},
   "outputs": [
    {
     "data": {
      "text/plain": [
       "dict_items([('SVC', SVC(gamma=1.0, kernel='sigmoid')), ('KN', KNeighborsClassifier()), ('NB', BernoulliNB()), ('DT', DecisionTreeClassifier(max_depth=5)), ('LR', LogisticRegression(penalty='l1', solver='liblinear')), ('RF', RandomForestClassifier(n_estimators=20, random_state=2)), ('AdaBoost', AdaBoostClassifier(n_estimators=20, random_state=2)), ('BgC', BaggingClassifier(n_estimators=20, random_state=2)), ('ETC', ExtraTreesClassifier(n_estimators=20, random_state=2)), ('GBDT', GradientBoostingClassifier(n_estimators=20, random_state=2)), ('xgb', XGBClassifier(base_score=None, booster=None, colsample_bylevel=None,\n",
       "              colsample_bynode=None, colsample_bytree=None,\n",
       "              enable_categorical=False, gamma=None, gpu_id=None,\n",
       "              importance_type=None, interaction_constraints=None,\n",
       "              learning_rate=None, max_delta_step=None, max_depth=None,\n",
       "              min_child_weight=None, missing=nan, monotone_constraints=None,\n",
       "              n_estimators=20, n_jobs=None, num_parallel_tree=None,\n",
       "              predictor=None, random_state=2, reg_alpha=None, reg_lambda=None,\n",
       "              scale_pos_weight=None, subsample=None, tree_method=None,\n",
       "              validate_parameters=None, verbosity=None))])"
      ]
     },
     "execution_count": 671,
     "metadata": {},
     "output_type": "execute_result"
    }
   ],
   "source": [
    "clfs.items()"
   ]
  },
  {
   "cell_type": "code",
   "execution_count": 672,
   "id": "80d147ac",
   "metadata": {},
   "outputs": [
    {
     "name": "stderr",
     "output_type": "stream",
     "text": [
      "C:\\Users\\User\\anaconda3\\lib\\site-packages\\xgboost\\sklearn.py:1224: UserWarning: The use of label encoder in XGBClassifier is deprecated and will be removed in a future release. To remove this warning, do the following: 1) Pass option use_label_encoder=False when constructing XGBClassifier object; and 2) Encode your labels (y) as integers starting with 0, i.e. 0, 1, 2, ..., [num_class - 1].\n",
      "  warnings.warn(label_encoder_deprecation_msg, UserWarning)\n"
     ]
    },
    {
     "name": "stdout",
     "output_type": "stream",
     "text": [
      "[11:01:40] WARNING: C:/Users/Administrator/workspace/xgboost-win64_release_1.5.1/src/learner.cc:1115: Starting in XGBoost 1.3.0, the default evaluation metric used with the objective 'binary:logistic' was changed from 'error' to 'logloss'. Explicitly set eval_metric if you'd like to restore the old behavior.\n"
     ]
    },
    {
     "name": "stderr",
     "output_type": "stream",
     "text": [
      "C:\\Users\\User\\anaconda3\\lib\\site-packages\\xgboost\\sklearn.py:1224: UserWarning: The use of label encoder in XGBClassifier is deprecated and will be removed in a future release. To remove this warning, do the following: 1) Pass option use_label_encoder=False when constructing XGBClassifier object; and 2) Encode your labels (y) as integers starting with 0, i.e. 0, 1, 2, ..., [num_class - 1].\n",
      "  warnings.warn(label_encoder_deprecation_msg, UserWarning)\n"
     ]
    },
    {
     "name": "stdout",
     "output_type": "stream",
     "text": [
      "[11:03:13] WARNING: C:/Users/Administrator/workspace/xgboost-win64_release_1.5.1/src/learner.cc:1115: Starting in XGBoost 1.3.0, the default evaluation metric used with the objective 'binary:logistic' was changed from 'error' to 'logloss'. Explicitly set eval_metric if you'd like to restore the old behavior.\n"
     ]
    },
    {
     "name": "stderr",
     "output_type": "stream",
     "text": [
      "C:\\Users\\User\\anaconda3\\lib\\site-packages\\xgboost\\sklearn.py:1224: UserWarning: The use of label encoder in XGBClassifier is deprecated and will be removed in a future release. To remove this warning, do the following: 1) Pass option use_label_encoder=False when constructing XGBClassifier object; and 2) Encode your labels (y) as integers starting with 0, i.e. 0, 1, 2, ..., [num_class - 1].\n",
      "  warnings.warn(label_encoder_deprecation_msg, UserWarning)\n"
     ]
    },
    {
     "name": "stdout",
     "output_type": "stream",
     "text": [
      "[11:04:41] WARNING: C:/Users/Administrator/workspace/xgboost-win64_release_1.5.1/src/learner.cc:1115: Starting in XGBoost 1.3.0, the default evaluation metric used with the objective 'binary:logistic' was changed from 'error' to 'logloss'. Explicitly set eval_metric if you'd like to restore the old behavior.\n"
     ]
    },
    {
     "name": "stderr",
     "output_type": "stream",
     "text": [
      "C:\\Users\\User\\anaconda3\\lib\\site-packages\\xgboost\\sklearn.py:1224: UserWarning: The use of label encoder in XGBClassifier is deprecated and will be removed in a future release. To remove this warning, do the following: 1) Pass option use_label_encoder=False when constructing XGBClassifier object; and 2) Encode your labels (y) as integers starting with 0, i.e. 0, 1, 2, ..., [num_class - 1].\n",
      "  warnings.warn(label_encoder_deprecation_msg, UserWarning)\n"
     ]
    },
    {
     "name": "stdout",
     "output_type": "stream",
     "text": [
      "[11:06:11] WARNING: C:/Users/Administrator/workspace/xgboost-win64_release_1.5.1/src/learner.cc:1115: Starting in XGBoost 1.3.0, the default evaluation metric used with the objective 'binary:logistic' was changed from 'error' to 'logloss'. Explicitly set eval_metric if you'd like to restore the old behavior.\n"
     ]
    }
   ],
   "source": [
    "\n",
    "select_model=pd.DataFrame(data=[\"accuracy\",\"precision\"],columns=[\"measure\"])\n",
    "\n",
    "\n",
    "for name,clf in clfs.items():\n",
    "    \n",
    "    current_accuracy,current_precision = train_classifier(clf,tf_X_train,tf_X_test,tf_y_train,tf_y_test)\n",
    "    select_model[name+\" tf\"]=pd.DataFrame([current_accuracy,current_precision])\n",
    "\n",
    "                                                               \n",
    "\n",
    "for name,clf in clfs.items():\n",
    "    \n",
    "    current_accuracy,current_precision = train_classifier(clf,tf_X_train,tf_X_test,tf_y_train,tf_y_test)\n",
    "    select_model[name+\" tf\"]=pd.DataFrame([current_accuracy,current_precision])\n",
    "\n",
    "for name,clf in clfs.items():\n",
    "    \n",
    "    current_accuracy,current_precision = train_classifier(clf,s_cv_X_train,s_cv_X_test,s_cv_y_train,s_cv_y_test)\n",
    "    select_model[name+\" cv s\"]=pd.DataFrame([current_accuracy,current_precision])\n",
    "                                                               \n",
    "\n",
    "for name,clf in clfs.items():\n",
    "    \n",
    "    current_accuracy,current_precision = train_classifier(clf,s_tf_X_train,s_tf_X_test,s_tf_y_train,s_tf_y_test)\n",
    "    select_model[name+\" tf s\"]=pd.DataFrame([current_accuracy,current_precision])\n",
    "\n",
    "\n"
   ]
  },
  {
   "cell_type": "code",
   "execution_count": 673,
   "id": "fb58d1b8",
   "metadata": {},
   "outputs": [],
   "source": [
    "select_model=select_model.T\n",
    "select_model.rename(columns={0:\"accuracy\",1:\"precision\"},inplace=True)\n",
    "select_model.drop(index=\"measure\",inplace=True)"
   ]
  },
  {
   "cell_type": "code",
   "execution_count": 674,
   "id": "62278fcb",
   "metadata": {},
   "outputs": [
    {
     "data": {
      "text/html": [
       "<div>\n",
       "<style scoped>\n",
       "    .dataframe tbody tr th:only-of-type {\n",
       "        vertical-align: middle;\n",
       "    }\n",
       "\n",
       "    .dataframe tbody tr th {\n",
       "        vertical-align: top;\n",
       "    }\n",
       "\n",
       "    .dataframe thead th {\n",
       "        text-align: right;\n",
       "    }\n",
       "</style>\n",
       "<table border=\"1\" class=\"dataframe\">\n",
       "  <thead>\n",
       "    <tr style=\"text-align: right;\">\n",
       "      <th></th>\n",
       "      <th>accuracy</th>\n",
       "      <th>precision</th>\n",
       "    </tr>\n",
       "  </thead>\n",
       "  <tbody>\n",
       "    <tr>\n",
       "      <th>SVC tf</th>\n",
       "      <td>0.974855</td>\n",
       "      <td>0.974576</td>\n",
       "    </tr>\n",
       "    <tr>\n",
       "      <th>KN tf</th>\n",
       "      <td>0.905222</td>\n",
       "      <td>1.0</td>\n",
       "    </tr>\n",
       "    <tr>\n",
       "      <th>NB tf</th>\n",
       "      <td>0.983559</td>\n",
       "      <td>0.99187</td>\n",
       "    </tr>\n",
       "    <tr>\n",
       "      <th>DT tf</th>\n",
       "      <td>0.9294</td>\n",
       "      <td>0.835052</td>\n",
       "    </tr>\n",
       "    <tr>\n",
       "      <th>LR tf</th>\n",
       "      <td>0.95648</td>\n",
       "      <td>0.969697</td>\n",
       "    </tr>\n",
       "    <tr>\n",
       "      <th>RF tf</th>\n",
       "      <td>0.970019</td>\n",
       "      <td>0.973451</td>\n",
       "    </tr>\n",
       "    <tr>\n",
       "      <th>AdaBoost tf</th>\n",
       "      <td>0.94971</td>\n",
       "      <td>0.890909</td>\n",
       "    </tr>\n",
       "    <tr>\n",
       "      <th>BgC tf</th>\n",
       "      <td>0.951644</td>\n",
       "      <td>0.849206</td>\n",
       "    </tr>\n",
       "    <tr>\n",
       "      <th>ETC tf</th>\n",
       "      <td>0.974855</td>\n",
       "      <td>0.974576</td>\n",
       "    </tr>\n",
       "    <tr>\n",
       "      <th>GBDT tf</th>\n",
       "      <td>0.927466</td>\n",
       "      <td>0.909091</td>\n",
       "    </tr>\n",
       "    <tr>\n",
       "      <th>xgb tf</th>\n",
       "      <td>0.953578</td>\n",
       "      <td>0.909091</td>\n",
       "    </tr>\n",
       "    <tr>\n",
       "      <th>SVC cv s</th>\n",
       "      <td>0.962282</td>\n",
       "      <td>0.902439</td>\n",
       "    </tr>\n",
       "    <tr>\n",
       "      <th>KN cv s</th>\n",
       "      <td>0.908124</td>\n",
       "      <td>1.0</td>\n",
       "    </tr>\n",
       "    <tr>\n",
       "      <th>NB cv s</th>\n",
       "      <td>0.983559</td>\n",
       "      <td>0.99187</td>\n",
       "    </tr>\n",
       "    <tr>\n",
       "      <th>DT cv s</th>\n",
       "      <td>0.924565</td>\n",
       "      <td>0.916667</td>\n",
       "    </tr>\n",
       "    <tr>\n",
       "      <th>LR cv s</th>\n",
       "      <td>0.971954</td>\n",
       "      <td>0.990991</td>\n",
       "    </tr>\n",
       "    <tr>\n",
       "      <th>RF cv s</th>\n",
       "      <td>0.970986</td>\n",
       "      <td>0.982143</td>\n",
       "    </tr>\n",
       "    <tr>\n",
       "      <th>AdaBoost cv s</th>\n",
       "      <td>0.94971</td>\n",
       "      <td>0.890909</td>\n",
       "    </tr>\n",
       "    <tr>\n",
       "      <th>BgC cv s</th>\n",
       "      <td>0.957447</td>\n",
       "      <td>0.898305</td>\n",
       "    </tr>\n",
       "    <tr>\n",
       "      <th>ETC cv s</th>\n",
       "      <td>0.977756</td>\n",
       "      <td>0.96748</td>\n",
       "    </tr>\n",
       "    <tr>\n",
       "      <th>GBDT cv s</th>\n",
       "      <td>0.9294</td>\n",
       "      <td>0.933333</td>\n",
       "    </tr>\n",
       "    <tr>\n",
       "      <th>xgb cv s</th>\n",
       "      <td>0.95648</td>\n",
       "      <td>0.960396</td>\n",
       "    </tr>\n",
       "    <tr>\n",
       "      <th>SVC tf s</th>\n",
       "      <td>0.971954</td>\n",
       "      <td>0.943089</td>\n",
       "    </tr>\n",
       "    <tr>\n",
       "      <th>KN tf s</th>\n",
       "      <td>0.905222</td>\n",
       "      <td>0.97619</td>\n",
       "    </tr>\n",
       "    <tr>\n",
       "      <th>NB tf s</th>\n",
       "      <td>0.983559</td>\n",
       "      <td>0.99187</td>\n",
       "    </tr>\n",
       "    <tr>\n",
       "      <th>DT tf s</th>\n",
       "      <td>0.928433</td>\n",
       "      <td>0.826531</td>\n",
       "    </tr>\n",
       "    <tr>\n",
       "      <th>LR tf s</th>\n",
       "      <td>0.967118</td>\n",
       "      <td>0.964286</td>\n",
       "    </tr>\n",
       "    <tr>\n",
       "      <th>RF tf s</th>\n",
       "      <td>0.970019</td>\n",
       "      <td>0.973451</td>\n",
       "    </tr>\n",
       "    <tr>\n",
       "      <th>AdaBoost tf s</th>\n",
       "      <td>0.94971</td>\n",
       "      <td>0.890909</td>\n",
       "    </tr>\n",
       "    <tr>\n",
       "      <th>BgC tf s</th>\n",
       "      <td>0.951644</td>\n",
       "      <td>0.849206</td>\n",
       "    </tr>\n",
       "    <tr>\n",
       "      <th>ETC tf s</th>\n",
       "      <td>0.974855</td>\n",
       "      <td>0.974576</td>\n",
       "    </tr>\n",
       "    <tr>\n",
       "      <th>GBDT tf s</th>\n",
       "      <td>0.927466</td>\n",
       "      <td>0.909091</td>\n",
       "    </tr>\n",
       "    <tr>\n",
       "      <th>xgb tf s</th>\n",
       "      <td>0.953578</td>\n",
       "      <td>0.909091</td>\n",
       "    </tr>\n",
       "  </tbody>\n",
       "</table>\n",
       "</div>"
      ],
      "text/plain": [
       "               accuracy precision\n",
       "SVC tf         0.974855  0.974576\n",
       "KN tf          0.905222       1.0\n",
       "NB tf          0.983559   0.99187\n",
       "DT tf            0.9294  0.835052\n",
       "LR tf           0.95648  0.969697\n",
       "RF tf          0.970019  0.973451\n",
       "AdaBoost tf     0.94971  0.890909\n",
       "BgC tf         0.951644  0.849206\n",
       "ETC tf         0.974855  0.974576\n",
       "GBDT tf        0.927466  0.909091\n",
       "xgb tf         0.953578  0.909091\n",
       "SVC cv s       0.962282  0.902439\n",
       "KN cv s        0.908124       1.0\n",
       "NB cv s        0.983559   0.99187\n",
       "DT cv s        0.924565  0.916667\n",
       "LR cv s        0.971954  0.990991\n",
       "RF cv s        0.970986  0.982143\n",
       "AdaBoost cv s   0.94971  0.890909\n",
       "BgC cv s       0.957447  0.898305\n",
       "ETC cv s       0.977756   0.96748\n",
       "GBDT cv s        0.9294  0.933333\n",
       "xgb cv s        0.95648  0.960396\n",
       "SVC tf s       0.971954  0.943089\n",
       "KN tf s        0.905222   0.97619\n",
       "NB tf s        0.983559   0.99187\n",
       "DT tf s        0.928433  0.826531\n",
       "LR tf s        0.967118  0.964286\n",
       "RF tf s        0.970019  0.973451\n",
       "AdaBoost tf s   0.94971  0.890909\n",
       "BgC tf s       0.951644  0.849206\n",
       "ETC tf s       0.974855  0.974576\n",
       "GBDT tf s      0.927466  0.909091\n",
       "xgb tf s       0.953578  0.909091"
      ]
     },
     "execution_count": 674,
     "metadata": {},
     "output_type": "execute_result"
    }
   ],
   "source": [
    "select_model"
   ]
  },
  {
   "cell_type": "code",
   "execution_count": 675,
   "id": "6dcecfd2",
   "metadata": {
    "scrolled": true
   },
   "outputs": [
    {
     "data": {
      "text/html": [
       "<div>\n",
       "<style scoped>\n",
       "    .dataframe tbody tr th:only-of-type {\n",
       "        vertical-align: middle;\n",
       "    }\n",
       "\n",
       "    .dataframe tbody tr th {\n",
       "        vertical-align: top;\n",
       "    }\n",
       "\n",
       "    .dataframe thead th {\n",
       "        text-align: right;\n",
       "    }\n",
       "</style>\n",
       "<table border=\"1\" class=\"dataframe\">\n",
       "  <thead>\n",
       "    <tr style=\"text-align: right;\">\n",
       "      <th></th>\n",
       "      <th>accuracy</th>\n",
       "      <th>precision</th>\n",
       "    </tr>\n",
       "  </thead>\n",
       "  <tbody>\n",
       "    <tr>\n",
       "      <th>KN cv s</th>\n",
       "      <td>0.908124</td>\n",
       "      <td>1.0</td>\n",
       "    </tr>\n",
       "    <tr>\n",
       "      <th>KN tf</th>\n",
       "      <td>0.905222</td>\n",
       "      <td>1.0</td>\n",
       "    </tr>\n",
       "    <tr>\n",
       "      <th>NB tf</th>\n",
       "      <td>0.983559</td>\n",
       "      <td>0.99187</td>\n",
       "    </tr>\n",
       "    <tr>\n",
       "      <th>NB tf s</th>\n",
       "      <td>0.983559</td>\n",
       "      <td>0.99187</td>\n",
       "    </tr>\n",
       "    <tr>\n",
       "      <th>NB cv s</th>\n",
       "      <td>0.983559</td>\n",
       "      <td>0.99187</td>\n",
       "    </tr>\n",
       "    <tr>\n",
       "      <th>LR cv s</th>\n",
       "      <td>0.971954</td>\n",
       "      <td>0.990991</td>\n",
       "    </tr>\n",
       "    <tr>\n",
       "      <th>RF cv s</th>\n",
       "      <td>0.970986</td>\n",
       "      <td>0.982143</td>\n",
       "    </tr>\n",
       "    <tr>\n",
       "      <th>KN tf s</th>\n",
       "      <td>0.905222</td>\n",
       "      <td>0.97619</td>\n",
       "    </tr>\n",
       "    <tr>\n",
       "      <th>ETC tf s</th>\n",
       "      <td>0.974855</td>\n",
       "      <td>0.974576</td>\n",
       "    </tr>\n",
       "    <tr>\n",
       "      <th>SVC tf</th>\n",
       "      <td>0.974855</td>\n",
       "      <td>0.974576</td>\n",
       "    </tr>\n",
       "    <tr>\n",
       "      <th>ETC tf</th>\n",
       "      <td>0.974855</td>\n",
       "      <td>0.974576</td>\n",
       "    </tr>\n",
       "    <tr>\n",
       "      <th>RF tf s</th>\n",
       "      <td>0.970019</td>\n",
       "      <td>0.973451</td>\n",
       "    </tr>\n",
       "    <tr>\n",
       "      <th>RF tf</th>\n",
       "      <td>0.970019</td>\n",
       "      <td>0.973451</td>\n",
       "    </tr>\n",
       "    <tr>\n",
       "      <th>LR tf</th>\n",
       "      <td>0.95648</td>\n",
       "      <td>0.969697</td>\n",
       "    </tr>\n",
       "    <tr>\n",
       "      <th>ETC cv s</th>\n",
       "      <td>0.977756</td>\n",
       "      <td>0.96748</td>\n",
       "    </tr>\n",
       "    <tr>\n",
       "      <th>LR tf s</th>\n",
       "      <td>0.967118</td>\n",
       "      <td>0.964286</td>\n",
       "    </tr>\n",
       "    <tr>\n",
       "      <th>xgb cv s</th>\n",
       "      <td>0.95648</td>\n",
       "      <td>0.960396</td>\n",
       "    </tr>\n",
       "    <tr>\n",
       "      <th>SVC tf s</th>\n",
       "      <td>0.971954</td>\n",
       "      <td>0.943089</td>\n",
       "    </tr>\n",
       "    <tr>\n",
       "      <th>GBDT cv s</th>\n",
       "      <td>0.9294</td>\n",
       "      <td>0.933333</td>\n",
       "    </tr>\n",
       "    <tr>\n",
       "      <th>DT cv s</th>\n",
       "      <td>0.924565</td>\n",
       "      <td>0.916667</td>\n",
       "    </tr>\n",
       "    <tr>\n",
       "      <th>GBDT tf s</th>\n",
       "      <td>0.927466</td>\n",
       "      <td>0.909091</td>\n",
       "    </tr>\n",
       "    <tr>\n",
       "      <th>xgb tf</th>\n",
       "      <td>0.953578</td>\n",
       "      <td>0.909091</td>\n",
       "    </tr>\n",
       "    <tr>\n",
       "      <th>GBDT tf</th>\n",
       "      <td>0.927466</td>\n",
       "      <td>0.909091</td>\n",
       "    </tr>\n",
       "    <tr>\n",
       "      <th>xgb tf s</th>\n",
       "      <td>0.953578</td>\n",
       "      <td>0.909091</td>\n",
       "    </tr>\n",
       "    <tr>\n",
       "      <th>SVC cv s</th>\n",
       "      <td>0.962282</td>\n",
       "      <td>0.902439</td>\n",
       "    </tr>\n",
       "    <tr>\n",
       "      <th>BgC cv s</th>\n",
       "      <td>0.957447</td>\n",
       "      <td>0.898305</td>\n",
       "    </tr>\n",
       "    <tr>\n",
       "      <th>AdaBoost cv s</th>\n",
       "      <td>0.94971</td>\n",
       "      <td>0.890909</td>\n",
       "    </tr>\n",
       "    <tr>\n",
       "      <th>AdaBoost tf</th>\n",
       "      <td>0.94971</td>\n",
       "      <td>0.890909</td>\n",
       "    </tr>\n",
       "    <tr>\n",
       "      <th>AdaBoost tf s</th>\n",
       "      <td>0.94971</td>\n",
       "      <td>0.890909</td>\n",
       "    </tr>\n",
       "    <tr>\n",
       "      <th>BgC tf</th>\n",
       "      <td>0.951644</td>\n",
       "      <td>0.849206</td>\n",
       "    </tr>\n",
       "    <tr>\n",
       "      <th>BgC tf s</th>\n",
       "      <td>0.951644</td>\n",
       "      <td>0.849206</td>\n",
       "    </tr>\n",
       "    <tr>\n",
       "      <th>DT tf</th>\n",
       "      <td>0.9294</td>\n",
       "      <td>0.835052</td>\n",
       "    </tr>\n",
       "    <tr>\n",
       "      <th>DT tf s</th>\n",
       "      <td>0.928433</td>\n",
       "      <td>0.826531</td>\n",
       "    </tr>\n",
       "  </tbody>\n",
       "</table>\n",
       "</div>"
      ],
      "text/plain": [
       "               accuracy precision\n",
       "KN cv s        0.908124       1.0\n",
       "KN tf          0.905222       1.0\n",
       "NB tf          0.983559   0.99187\n",
       "NB tf s        0.983559   0.99187\n",
       "NB cv s        0.983559   0.99187\n",
       "LR cv s        0.971954  0.990991\n",
       "RF cv s        0.970986  0.982143\n",
       "KN tf s        0.905222   0.97619\n",
       "ETC tf s       0.974855  0.974576\n",
       "SVC tf         0.974855  0.974576\n",
       "ETC tf         0.974855  0.974576\n",
       "RF tf s        0.970019  0.973451\n",
       "RF tf          0.970019  0.973451\n",
       "LR tf           0.95648  0.969697\n",
       "ETC cv s       0.977756   0.96748\n",
       "LR tf s        0.967118  0.964286\n",
       "xgb cv s        0.95648  0.960396\n",
       "SVC tf s       0.971954  0.943089\n",
       "GBDT cv s        0.9294  0.933333\n",
       "DT cv s        0.924565  0.916667\n",
       "GBDT tf s      0.927466  0.909091\n",
       "xgb tf         0.953578  0.909091\n",
       "GBDT tf        0.927466  0.909091\n",
       "xgb tf s       0.953578  0.909091\n",
       "SVC cv s       0.962282  0.902439\n",
       "BgC cv s       0.957447  0.898305\n",
       "AdaBoost cv s   0.94971  0.890909\n",
       "AdaBoost tf     0.94971  0.890909\n",
       "AdaBoost tf s   0.94971  0.890909\n",
       "BgC tf         0.951644  0.849206\n",
       "BgC tf s       0.951644  0.849206\n",
       "DT tf            0.9294  0.835052\n",
       "DT tf s        0.928433  0.826531"
      ]
     },
     "execution_count": 675,
     "metadata": {},
     "output_type": "execute_result"
    }
   ],
   "source": [
    "select_model.sort_values(by=\"precision\",ascending=False)"
   ]
  },
  {
   "cell_type": "raw",
   "id": "a387c896",
   "metadata": {},
   "source": [
    "BernoulliNB with TfidfVectorizer works better in terms of accuracy and precision"
   ]
  },
  {
   "cell_type": "markdown",
   "id": "98a5f311",
   "metadata": {},
   "source": [
    "# 8. Ensemble Modeling for getting better result"
   ]
  },
  {
   "cell_type": "code",
   "execution_count": null,
   "id": "3a074f16",
   "metadata": {},
   "outputs": [],
   "source": []
  },
  {
   "cell_type": "code",
   "execution_count": 676,
   "id": "8ad7566a",
   "metadata": {},
   "outputs": [],
   "source": [
    "# best models\n",
    "svc = SVC(kernel='sigmoid', gamma=1.0,probability=True)\n",
    "mnb = BernoulliNB()\n",
    "etc = ExtraTreesClassifier(n_estimators=50, random_state=2)\n",
    "lrc = LogisticRegression(solver='liblinear', penalty='l1')\n"
   ]
  },
  {
   "cell_type": "markdown",
   "id": "31c98895",
   "metadata": {},
   "source": [
    "# Voting Classifier"
   ]
  },
  {
   "cell_type": "code",
   "execution_count": 677,
   "id": "553f41d9",
   "metadata": {},
   "outputs": [
    {
     "name": "stdout",
     "output_type": "stream",
     "text": [
      "Voting Accuracy 0.9806576402321083\n",
      "voting Precision 1.0\n"
     ]
    }
   ],
   "source": [
    "voting1 = VotingClassifier(estimators=[('svm', svc), ('nb', mnb), ('et', etc),(\"lr\",lrc)],voting='hard')\n",
    "voting1.fit(cv_X_train,cv_y_train)\n",
    "y_pred = voting1.predict(cv_X_test)\n",
    "print(\"Voting Accuracy\",accuracy_score(cv_y_test,y_pred))\n",
    "print(\"voting Precision\",precision_score(cv_y_test,y_pred))\n"
   ]
  },
  {
   "cell_type": "code",
   "execution_count": 678,
   "id": "07a7a880",
   "metadata": {},
   "outputs": [
    {
     "name": "stdout",
     "output_type": "stream",
     "text": [
      "Voting Accuracy 0.9806576402321083\n",
      "voting Precision 0.9836065573770492\n"
     ]
    }
   ],
   "source": [
    "voting2 = VotingClassifier(estimators=[('svm', svc), ('nb', mnb), ('et', etc),(\"lr\",lrc)],voting='soft')\n",
    "voting2.fit(cv_X_train,cv_y_train)\n",
    "y_pred = voting2.predict(cv_X_test)\n",
    "print(\"Voting Accuracy\",accuracy_score(cv_y_test,y_pred))\n",
    "print(\"voting Precision\",precision_score(cv_y_test,y_pred))\n"
   ]
  },
  {
   "cell_type": "code",
   "execution_count": 679,
   "id": "6a591e37",
   "metadata": {},
   "outputs": [
    {
     "name": "stdout",
     "output_type": "stream",
     "text": [
      "Voting Accuracy 0.9787234042553191\n",
      "voting Precision 1.0\n"
     ]
    }
   ],
   "source": [
    "voting3 = VotingClassifier(estimators=[('svm', svc), ('nb', mnb), ('et', etc),(\"lr\",lrc)],voting='hard')\n",
    "voting3.fit(tf_X_train,tf_y_train)\n",
    "y_pred = voting3.predict(tf_X_test)\n",
    "print(\"Voting Accuracy\",accuracy_score(tf_y_test,y_pred))\n",
    "print(\"voting Precision\",precision_score(tf_y_test,y_pred))\n"
   ]
  },
  {
   "cell_type": "code",
   "execution_count": 680,
   "id": "6112e11b",
   "metadata": {},
   "outputs": [
    {
     "name": "stdout",
     "output_type": "stream",
     "text": [
      "Voting Accuracy 0.9816247582205029\n",
      "voting Precision 0.983739837398374\n"
     ]
    }
   ],
   "source": [
    "voting4 = VotingClassifier(estimators=[('svm', svc), ('nb', mnb), ('et', etc),(\"lr\",lrc)],voting='soft')\n",
    "voting4.fit(tf_X_train,tf_y_train)\n",
    "y_pred = voting4.predict(tf_X_test)\n",
    "print(\"Voting Accuracy\",accuracy_score(tf_y_test,y_pred))\n",
    "print(\"voting Precision\",precision_score(tf_y_test,y_pred))\n"
   ]
  },
  {
   "cell_type": "markdown",
   "id": "88524867",
   "metadata": {},
   "source": [
    "# Stacking Classifier\n"
   ]
  },
  {
   "cell_type": "code",
   "execution_count": null,
   "id": "8819eb39",
   "metadata": {},
   "outputs": [],
   "source": [
    "from sklearn.ensemble import StackingClassifier\n",
    "lrc = LogisticRegression(solver='liblinear', penalty='l1')\n",
    "estimators=[('svm', svc), ('nb', mnb), ('et', etc),(\"LRC\",lrc)]\n",
    "final_estimator=RandomForestClassifier()\n",
    "clf = StackingClassifier(estimators=estimators, final_estimator=final_estimator)\n",
    "clf.fit(cv_X_train,cv_y_train)\n",
    "y_pred = clf.predict(cv_X_test)\n",
    "print(\"Stacking Accuracy\",accuracy_score(cv_y_test,y_pred))\n",
    "print(\"Stacking Precision\",precision_score(cv_y_test,y_pred))"
   ]
  },
  {
   "cell_type": "code",
   "execution_count": null,
   "id": "602eac8c",
   "metadata": {},
   "outputs": [],
   "source": [
    "clf.fit(tf_X_train,tf_y_train)\n",
    "y_pred = clf.predict(tf_X_test)\n",
    "print(\"Stacking Accuracy\",accuracy_score(tf_y_test,y_pred))\n",
    "print(\"Stacking Precision\",precision_score(tf_y_test,y_pred))"
   ]
  },
  {
   "cell_type": "raw",
   "id": "39d3d6d1",
   "metadata": {},
   "source": [
    " Finally all of the models, voting1 classifier works better with the higest accuracy and precision"
   ]
  },
  {
   "cell_type": "markdown",
   "id": "2aa9daab",
   "metadata": {},
   "source": [
    "# 9. dummping model for  deployment"
   ]
  },
  {
   "cell_type": "code",
   "execution_count": null,
   "id": "86b93f9a",
   "metadata": {},
   "outputs": [],
   "source": [
    "\n",
    "import pickle\n",
    "pickle.dump(tfidf,open('vectorizer.pkl','wb'))\n",
    "pickle.dump(voting1,open('model.pkl','wb'))"
   ]
  },
  {
   "cell_type": "code",
   "execution_count": null,
   "id": "596423ee",
   "metadata": {},
   "outputs": [],
   "source": []
  },
  {
   "cell_type": "code",
   "execution_count": null,
   "id": "d6057478",
   "metadata": {},
   "outputs": [],
   "source": []
  },
  {
   "cell_type": "code",
   "execution_count": null,
   "id": "f089f8e8",
   "metadata": {},
   "outputs": [],
   "source": []
  },
  {
   "cell_type": "code",
   "execution_count": null,
   "id": "c7ce3254",
   "metadata": {},
   "outputs": [],
   "source": []
  },
  {
   "cell_type": "code",
   "execution_count": null,
   "id": "8ad8e41a",
   "metadata": {},
   "outputs": [],
   "source": []
  },
  {
   "cell_type": "code",
   "execution_count": null,
   "id": "5863fac9",
   "metadata": {},
   "outputs": [],
   "source": []
  }
 ],
 "metadata": {
  "kernelspec": {
   "display_name": "Python 3",
   "language": "python",
   "name": "python3"
  },
  "language_info": {
   "codemirror_mode": {
    "name": "ipython",
    "version": 3
   },
   "file_extension": ".py",
   "mimetype": "text/x-python",
   "name": "python",
   "nbconvert_exporter": "python",
   "pygments_lexer": "ipython3",
   "version": "3.8.8"
  }
 },
 "nbformat": 4,
 "nbformat_minor": 5
}
